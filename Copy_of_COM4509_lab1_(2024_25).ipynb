{
  "cells": [
    {
      "cell_type": "markdown",
      "metadata": {
        "id": "view-in-github",
        "colab_type": "text"
      },
      "source": [
        "<a href=\"https://colab.research.google.com/github/adithyamadhavan/getting_started/blob/main/Copy_of_COM4509_lab1_(2024_25).ipynb\" target=\"_parent\"><img src=\"https://colab.research.google.com/assets/colab-badge.svg\" alt=\"Open In Colab\"/></a>"
      ]
    },
    {
      "cell_type": "markdown",
      "metadata": {
        "id": "MO2HehZvwPXc"
      },
      "source": [
        "# COM4509/6509 - Lab 1: Probability"
      ]
    },
    {
      "cell_type": "markdown",
      "source": [
        "## Introduction to the Dataset\n",
        "\n",
        "For this exercise we'll use the [Diabetes Health Indicators Dataset](https://www.kaggle.com/datasets/alexteboul/diabetes-health-indicators-dataset): 253,680 Americans were called to ask about some of their health-related behaviours (eating fruit etc), and some health outcomes (have they diabetes, etc)."
      ],
      "metadata": {
        "id": "cEnUQlwz9j8n"
      }
    },
    {
      "cell_type": "markdown",
      "metadata": {
        "id": "PVNE1RvTwPXi"
      },
      "source": [
        "We first need to import various modules we'll use, download the dataset and open it, including [pandas](https://pandas.pydata.org), a data analysis and manipulation library, for looking at this data."
      ]
    },
    {
      "cell_type": "code",
      "execution_count": null,
      "metadata": {
        "id": "bJPKRyAHwPXl"
      },
      "outputs": [],
      "source": [
        "import pandas as pd   #useful for data access and manipulation\n",
        "import urllib.request #used to download the dataset\n",
        "import matplotlib.pyplot as plt #useful for plotting\n",
        "#ensure our plots appear in the notebook:\n",
        "%matplotlib inline\n",
        "import numpy as np    #numpy is useful for matrix/array/tensor manipulation"
      ]
    },
    {
      "cell_type": "markdown",
      "metadata": {
        "id": "OsLxYtdbwPXn"
      },
      "source": [
        "Now download and open the dataset:"
      ]
    },
    {
      "cell_type": "code",
      "execution_count": null,
      "metadata": {
        "id": "VwubPcGCwPXo"
      },
      "outputs": [],
      "source": [
        "urllib.request.urlretrieve('https://drive.google.com/u/0/uc?id=1dprY31miDsQSZZwMkOfHoqkH4TQ8gV2W&export=download', './diabetes.csv')\n",
        "df = pd.read_csv('diabetes.csv')"
      ]
    },
    {
      "cell_type": "markdown",
      "metadata": {
        "id": "MY-8VpDbwPXp"
      },
      "source": [
        "We can look at the content: It is a large table, containing 253680 rows (each row is a person) and 22 columns:"
      ]
    },
    {
      "cell_type": "code",
      "execution_count": null,
      "metadata": {
        "id": "d5DDqGyFwPXr",
        "outputId": "4f8087a5-a259-43c7-d0cb-e2ce07891051",
        "colab": {
          "base_uri": "https://localhost:8080/"
        }
      },
      "outputs": [
        {
          "output_type": "stream",
          "name": "stdout",
          "text": [
            "The columns in the dataset:\n",
            "Index(['Unnamed: 0', 'Diabetes_012', 'HighBP', 'HighChol', 'CholCheck', 'BMI',\n",
            "       'Smoker', 'Stroke', 'HeartDiseaseorAttack', 'PhysActivity', 'Fruits',\n",
            "       'Veggies', 'HvyAlcoholConsump', 'AnyHealthcare', 'NoDocbcCost',\n",
            "       'GenHlth', 'MentHlth', 'PhysHlth', 'DiffWalk', 'Sex', 'Age',\n",
            "       'Education', 'Income'],\n",
            "      dtype='object')\n"
          ]
        }
      ],
      "source": [
        "print(\"The columns in the dataset:\")\n",
        "print(df.columns)"
      ]
    },
    {
      "cell_type": "markdown",
      "metadata": {
        "id": "RSoCZQMewPXs"
      },
      "source": [
        "The dataframe itself:"
      ]
    },
    {
      "cell_type": "code",
      "execution_count": null,
      "metadata": {
        "id": "Oi4QTfTxwPXs",
        "outputId": "6d615b91-b006-49aa-808f-090a20603413",
        "colab": {
          "base_uri": "https://localhost:8080/",
          "height": 461
        }
      },
      "outputs": [
        {
          "output_type": "execute_result",
          "data": {
            "text/plain": [
              "        Unnamed: 0  Diabetes_012  HighBP  HighChol  CholCheck   BMI  Smoker  \\\n",
              "0                0           0.0     1.0       1.0        1.0  40.0     1.0   \n",
              "1                1           0.0     0.0       0.0        0.0  25.0     1.0   \n",
              "2                2           0.0     1.0       1.0        1.0  28.0     0.0   \n",
              "3                3           0.0     1.0       0.0        1.0  27.0     0.0   \n",
              "4                4           0.0     1.0       1.0        1.0  24.0     0.0   \n",
              "...            ...           ...     ...       ...        ...   ...     ...   \n",
              "253675      253675           0.0     1.0       1.0        1.0  45.0     0.0   \n",
              "253676      253676           2.0     1.0       1.0        1.0  18.0     0.0   \n",
              "253677      253677           0.0     0.0       0.0        1.0  28.0     0.0   \n",
              "253678      253678           0.0     1.0       0.0        1.0  23.0     0.0   \n",
              "253679      253679           2.0     1.0       1.0        1.0  25.0     0.0   \n",
              "\n",
              "        Stroke  HeartDiseaseorAttack  PhysActivity  ...  AnyHealthcare  \\\n",
              "0          0.0                   0.0           0.0  ...            1.0   \n",
              "1          0.0                   0.0           1.0  ...            0.0   \n",
              "2          0.0                   0.0           0.0  ...            1.0   \n",
              "3          0.0                   0.0           1.0  ...            1.0   \n",
              "4          0.0                   0.0           1.0  ...            1.0   \n",
              "...        ...                   ...           ...  ...            ...   \n",
              "253675     0.0                   0.0           0.0  ...            1.0   \n",
              "253676     0.0                   0.0           0.0  ...            1.0   \n",
              "253677     0.0                   0.0           1.0  ...            1.0   \n",
              "253678     0.0                   0.0           0.0  ...            1.0   \n",
              "253679     0.0                   1.0           1.0  ...            1.0   \n",
              "\n",
              "        NoDocbcCost  GenHlth  MentHlth  PhysHlth  DiffWalk  Sex   Age  \\\n",
              "0               0.0      5.0      18.0      15.0       1.0  0.0  62.0   \n",
              "1               1.0      3.0       0.0       0.0       0.0  0.0  52.0   \n",
              "2               1.0      5.0      30.0      30.0       1.0  0.0  62.0   \n",
              "3               0.0      2.0       0.0       0.0       0.0  0.0  72.0   \n",
              "4               0.0      2.0       3.0       0.0       0.0  0.0  72.0   \n",
              "...             ...      ...       ...       ...       ...  ...   ...   \n",
              "253675          0.0      3.0       0.0       5.0       0.0  1.0  42.0   \n",
              "253676          0.0      4.0       0.0       0.0       1.0  0.0  72.0   \n",
              "253677          0.0      1.0       0.0       0.0       0.0  0.0  27.0   \n",
              "253678          0.0      3.0       0.0       0.0       0.0  1.0  52.0   \n",
              "253679          0.0      2.0       0.0       0.0       0.0  0.0  62.0   \n",
              "\n",
              "        Education  Income  \n",
              "0             4.0     3.0  \n",
              "1             6.0     1.0  \n",
              "2             4.0     8.0  \n",
              "3             3.0     6.0  \n",
              "4             5.0     4.0  \n",
              "...           ...     ...  \n",
              "253675        6.0     7.0  \n",
              "253676        2.0     4.0  \n",
              "253677        5.0     2.0  \n",
              "253678        5.0     1.0  \n",
              "253679        6.0     2.0  \n",
              "\n",
              "[253680 rows x 23 columns]"
            ],
            "text/html": [
              "\n",
              "  <div id=\"df-3f8215f9-298a-4a45-b7c2-bff3435f25c4\" class=\"colab-df-container\">\n",
              "    <div>\n",
              "<style scoped>\n",
              "    .dataframe tbody tr th:only-of-type {\n",
              "        vertical-align: middle;\n",
              "    }\n",
              "\n",
              "    .dataframe tbody tr th {\n",
              "        vertical-align: top;\n",
              "    }\n",
              "\n",
              "    .dataframe thead th {\n",
              "        text-align: right;\n",
              "    }\n",
              "</style>\n",
              "<table border=\"1\" class=\"dataframe\">\n",
              "  <thead>\n",
              "    <tr style=\"text-align: right;\">\n",
              "      <th></th>\n",
              "      <th>Unnamed: 0</th>\n",
              "      <th>Diabetes_012</th>\n",
              "      <th>HighBP</th>\n",
              "      <th>HighChol</th>\n",
              "      <th>CholCheck</th>\n",
              "      <th>BMI</th>\n",
              "      <th>Smoker</th>\n",
              "      <th>Stroke</th>\n",
              "      <th>HeartDiseaseorAttack</th>\n",
              "      <th>PhysActivity</th>\n",
              "      <th>...</th>\n",
              "      <th>AnyHealthcare</th>\n",
              "      <th>NoDocbcCost</th>\n",
              "      <th>GenHlth</th>\n",
              "      <th>MentHlth</th>\n",
              "      <th>PhysHlth</th>\n",
              "      <th>DiffWalk</th>\n",
              "      <th>Sex</th>\n",
              "      <th>Age</th>\n",
              "      <th>Education</th>\n",
              "      <th>Income</th>\n",
              "    </tr>\n",
              "  </thead>\n",
              "  <tbody>\n",
              "    <tr>\n",
              "      <th>0</th>\n",
              "      <td>0</td>\n",
              "      <td>0.0</td>\n",
              "      <td>1.0</td>\n",
              "      <td>1.0</td>\n",
              "      <td>1.0</td>\n",
              "      <td>40.0</td>\n",
              "      <td>1.0</td>\n",
              "      <td>0.0</td>\n",
              "      <td>0.0</td>\n",
              "      <td>0.0</td>\n",
              "      <td>...</td>\n",
              "      <td>1.0</td>\n",
              "      <td>0.0</td>\n",
              "      <td>5.0</td>\n",
              "      <td>18.0</td>\n",
              "      <td>15.0</td>\n",
              "      <td>1.0</td>\n",
              "      <td>0.0</td>\n",
              "      <td>62.0</td>\n",
              "      <td>4.0</td>\n",
              "      <td>3.0</td>\n",
              "    </tr>\n",
              "    <tr>\n",
              "      <th>1</th>\n",
              "      <td>1</td>\n",
              "      <td>0.0</td>\n",
              "      <td>0.0</td>\n",
              "      <td>0.0</td>\n",
              "      <td>0.0</td>\n",
              "      <td>25.0</td>\n",
              "      <td>1.0</td>\n",
              "      <td>0.0</td>\n",
              "      <td>0.0</td>\n",
              "      <td>1.0</td>\n",
              "      <td>...</td>\n",
              "      <td>0.0</td>\n",
              "      <td>1.0</td>\n",
              "      <td>3.0</td>\n",
              "      <td>0.0</td>\n",
              "      <td>0.0</td>\n",
              "      <td>0.0</td>\n",
              "      <td>0.0</td>\n",
              "      <td>52.0</td>\n",
              "      <td>6.0</td>\n",
              "      <td>1.0</td>\n",
              "    </tr>\n",
              "    <tr>\n",
              "      <th>2</th>\n",
              "      <td>2</td>\n",
              "      <td>0.0</td>\n",
              "      <td>1.0</td>\n",
              "      <td>1.0</td>\n",
              "      <td>1.0</td>\n",
              "      <td>28.0</td>\n",
              "      <td>0.0</td>\n",
              "      <td>0.0</td>\n",
              "      <td>0.0</td>\n",
              "      <td>0.0</td>\n",
              "      <td>...</td>\n",
              "      <td>1.0</td>\n",
              "      <td>1.0</td>\n",
              "      <td>5.0</td>\n",
              "      <td>30.0</td>\n",
              "      <td>30.0</td>\n",
              "      <td>1.0</td>\n",
              "      <td>0.0</td>\n",
              "      <td>62.0</td>\n",
              "      <td>4.0</td>\n",
              "      <td>8.0</td>\n",
              "    </tr>\n",
              "    <tr>\n",
              "      <th>3</th>\n",
              "      <td>3</td>\n",
              "      <td>0.0</td>\n",
              "      <td>1.0</td>\n",
              "      <td>0.0</td>\n",
              "      <td>1.0</td>\n",
              "      <td>27.0</td>\n",
              "      <td>0.0</td>\n",
              "      <td>0.0</td>\n",
              "      <td>0.0</td>\n",
              "      <td>1.0</td>\n",
              "      <td>...</td>\n",
              "      <td>1.0</td>\n",
              "      <td>0.0</td>\n",
              "      <td>2.0</td>\n",
              "      <td>0.0</td>\n",
              "      <td>0.0</td>\n",
              "      <td>0.0</td>\n",
              "      <td>0.0</td>\n",
              "      <td>72.0</td>\n",
              "      <td>3.0</td>\n",
              "      <td>6.0</td>\n",
              "    </tr>\n",
              "    <tr>\n",
              "      <th>4</th>\n",
              "      <td>4</td>\n",
              "      <td>0.0</td>\n",
              "      <td>1.0</td>\n",
              "      <td>1.0</td>\n",
              "      <td>1.0</td>\n",
              "      <td>24.0</td>\n",
              "      <td>0.0</td>\n",
              "      <td>0.0</td>\n",
              "      <td>0.0</td>\n",
              "      <td>1.0</td>\n",
              "      <td>...</td>\n",
              "      <td>1.0</td>\n",
              "      <td>0.0</td>\n",
              "      <td>2.0</td>\n",
              "      <td>3.0</td>\n",
              "      <td>0.0</td>\n",
              "      <td>0.0</td>\n",
              "      <td>0.0</td>\n",
              "      <td>72.0</td>\n",
              "      <td>5.0</td>\n",
              "      <td>4.0</td>\n",
              "    </tr>\n",
              "    <tr>\n",
              "      <th>...</th>\n",
              "      <td>...</td>\n",
              "      <td>...</td>\n",
              "      <td>...</td>\n",
              "      <td>...</td>\n",
              "      <td>...</td>\n",
              "      <td>...</td>\n",
              "      <td>...</td>\n",
              "      <td>...</td>\n",
              "      <td>...</td>\n",
              "      <td>...</td>\n",
              "      <td>...</td>\n",
              "      <td>...</td>\n",
              "      <td>...</td>\n",
              "      <td>...</td>\n",
              "      <td>...</td>\n",
              "      <td>...</td>\n",
              "      <td>...</td>\n",
              "      <td>...</td>\n",
              "      <td>...</td>\n",
              "      <td>...</td>\n",
              "      <td>...</td>\n",
              "    </tr>\n",
              "    <tr>\n",
              "      <th>253675</th>\n",
              "      <td>253675</td>\n",
              "      <td>0.0</td>\n",
              "      <td>1.0</td>\n",
              "      <td>1.0</td>\n",
              "      <td>1.0</td>\n",
              "      <td>45.0</td>\n",
              "      <td>0.0</td>\n",
              "      <td>0.0</td>\n",
              "      <td>0.0</td>\n",
              "      <td>0.0</td>\n",
              "      <td>...</td>\n",
              "      <td>1.0</td>\n",
              "      <td>0.0</td>\n",
              "      <td>3.0</td>\n",
              "      <td>0.0</td>\n",
              "      <td>5.0</td>\n",
              "      <td>0.0</td>\n",
              "      <td>1.0</td>\n",
              "      <td>42.0</td>\n",
              "      <td>6.0</td>\n",
              "      <td>7.0</td>\n",
              "    </tr>\n",
              "    <tr>\n",
              "      <th>253676</th>\n",
              "      <td>253676</td>\n",
              "      <td>2.0</td>\n",
              "      <td>1.0</td>\n",
              "      <td>1.0</td>\n",
              "      <td>1.0</td>\n",
              "      <td>18.0</td>\n",
              "      <td>0.0</td>\n",
              "      <td>0.0</td>\n",
              "      <td>0.0</td>\n",
              "      <td>0.0</td>\n",
              "      <td>...</td>\n",
              "      <td>1.0</td>\n",
              "      <td>0.0</td>\n",
              "      <td>4.0</td>\n",
              "      <td>0.0</td>\n",
              "      <td>0.0</td>\n",
              "      <td>1.0</td>\n",
              "      <td>0.0</td>\n",
              "      <td>72.0</td>\n",
              "      <td>2.0</td>\n",
              "      <td>4.0</td>\n",
              "    </tr>\n",
              "    <tr>\n",
              "      <th>253677</th>\n",
              "      <td>253677</td>\n",
              "      <td>0.0</td>\n",
              "      <td>0.0</td>\n",
              "      <td>0.0</td>\n",
              "      <td>1.0</td>\n",
              "      <td>28.0</td>\n",
              "      <td>0.0</td>\n",
              "      <td>0.0</td>\n",
              "      <td>0.0</td>\n",
              "      <td>1.0</td>\n",
              "      <td>...</td>\n",
              "      <td>1.0</td>\n",
              "      <td>0.0</td>\n",
              "      <td>1.0</td>\n",
              "      <td>0.0</td>\n",
              "      <td>0.0</td>\n",
              "      <td>0.0</td>\n",
              "      <td>0.0</td>\n",
              "      <td>27.0</td>\n",
              "      <td>5.0</td>\n",
              "      <td>2.0</td>\n",
              "    </tr>\n",
              "    <tr>\n",
              "      <th>253678</th>\n",
              "      <td>253678</td>\n",
              "      <td>0.0</td>\n",
              "      <td>1.0</td>\n",
              "      <td>0.0</td>\n",
              "      <td>1.0</td>\n",
              "      <td>23.0</td>\n",
              "      <td>0.0</td>\n",
              "      <td>0.0</td>\n",
              "      <td>0.0</td>\n",
              "      <td>0.0</td>\n",
              "      <td>...</td>\n",
              "      <td>1.0</td>\n",
              "      <td>0.0</td>\n",
              "      <td>3.0</td>\n",
              "      <td>0.0</td>\n",
              "      <td>0.0</td>\n",
              "      <td>0.0</td>\n",
              "      <td>1.0</td>\n",
              "      <td>52.0</td>\n",
              "      <td>5.0</td>\n",
              "      <td>1.0</td>\n",
              "    </tr>\n",
              "    <tr>\n",
              "      <th>253679</th>\n",
              "      <td>253679</td>\n",
              "      <td>2.0</td>\n",
              "      <td>1.0</td>\n",
              "      <td>1.0</td>\n",
              "      <td>1.0</td>\n",
              "      <td>25.0</td>\n",
              "      <td>0.0</td>\n",
              "      <td>0.0</td>\n",
              "      <td>1.0</td>\n",
              "      <td>1.0</td>\n",
              "      <td>...</td>\n",
              "      <td>1.0</td>\n",
              "      <td>0.0</td>\n",
              "      <td>2.0</td>\n",
              "      <td>0.0</td>\n",
              "      <td>0.0</td>\n",
              "      <td>0.0</td>\n",
              "      <td>0.0</td>\n",
              "      <td>62.0</td>\n",
              "      <td>6.0</td>\n",
              "      <td>2.0</td>\n",
              "    </tr>\n",
              "  </tbody>\n",
              "</table>\n",
              "<p>253680 rows × 23 columns</p>\n",
              "</div>\n",
              "    <div class=\"colab-df-buttons\">\n",
              "\n",
              "  <div class=\"colab-df-container\">\n",
              "    <button class=\"colab-df-convert\" onclick=\"convertToInteractive('df-3f8215f9-298a-4a45-b7c2-bff3435f25c4')\"\n",
              "            title=\"Convert this dataframe to an interactive table.\"\n",
              "            style=\"display:none;\">\n",
              "\n",
              "  <svg xmlns=\"http://www.w3.org/2000/svg\" height=\"24px\" viewBox=\"0 -960 960 960\">\n",
              "    <path d=\"M120-120v-720h720v720H120Zm60-500h600v-160H180v160Zm220 220h160v-160H400v160Zm0 220h160v-160H400v160ZM180-400h160v-160H180v160Zm440 0h160v-160H620v160ZM180-180h160v-160H180v160Zm440 0h160v-160H620v160Z\"/>\n",
              "  </svg>\n",
              "    </button>\n",
              "\n",
              "  <style>\n",
              "    .colab-df-container {\n",
              "      display:flex;\n",
              "      gap: 12px;\n",
              "    }\n",
              "\n",
              "    .colab-df-convert {\n",
              "      background-color: #E8F0FE;\n",
              "      border: none;\n",
              "      border-radius: 50%;\n",
              "      cursor: pointer;\n",
              "      display: none;\n",
              "      fill: #1967D2;\n",
              "      height: 32px;\n",
              "      padding: 0 0 0 0;\n",
              "      width: 32px;\n",
              "    }\n",
              "\n",
              "    .colab-df-convert:hover {\n",
              "      background-color: #E2EBFA;\n",
              "      box-shadow: 0px 1px 2px rgba(60, 64, 67, 0.3), 0px 1px 3px 1px rgba(60, 64, 67, 0.15);\n",
              "      fill: #174EA6;\n",
              "    }\n",
              "\n",
              "    .colab-df-buttons div {\n",
              "      margin-bottom: 4px;\n",
              "    }\n",
              "\n",
              "    [theme=dark] .colab-df-convert {\n",
              "      background-color: #3B4455;\n",
              "      fill: #D2E3FC;\n",
              "    }\n",
              "\n",
              "    [theme=dark] .colab-df-convert:hover {\n",
              "      background-color: #434B5C;\n",
              "      box-shadow: 0px 1px 3px 1px rgba(0, 0, 0, 0.15);\n",
              "      filter: drop-shadow(0px 1px 2px rgba(0, 0, 0, 0.3));\n",
              "      fill: #FFFFFF;\n",
              "    }\n",
              "  </style>\n",
              "\n",
              "    <script>\n",
              "      const buttonEl =\n",
              "        document.querySelector('#df-3f8215f9-298a-4a45-b7c2-bff3435f25c4 button.colab-df-convert');\n",
              "      buttonEl.style.display =\n",
              "        google.colab.kernel.accessAllowed ? 'block' : 'none';\n",
              "\n",
              "      async function convertToInteractive(key) {\n",
              "        const element = document.querySelector('#df-3f8215f9-298a-4a45-b7c2-bff3435f25c4');\n",
              "        const dataTable =\n",
              "          await google.colab.kernel.invokeFunction('convertToInteractive',\n",
              "                                                    [key], {});\n",
              "        if (!dataTable) return;\n",
              "\n",
              "        const docLinkHtml = 'Like what you see? Visit the ' +\n",
              "          '<a target=\"_blank\" href=https://colab.research.google.com/notebooks/data_table.ipynb>data table notebook</a>'\n",
              "          + ' to learn more about interactive tables.';\n",
              "        element.innerHTML = '';\n",
              "        dataTable['output_type'] = 'display_data';\n",
              "        await google.colab.output.renderOutput(dataTable, element);\n",
              "        const docLink = document.createElement('div');\n",
              "        docLink.innerHTML = docLinkHtml;\n",
              "        element.appendChild(docLink);\n",
              "      }\n",
              "    </script>\n",
              "  </div>\n",
              "\n",
              "\n",
              "    <div id=\"df-488953c7-8c6d-4513-afef-544c6442d84d\">\n",
              "      <button class=\"colab-df-quickchart\" onclick=\"quickchart('df-488953c7-8c6d-4513-afef-544c6442d84d')\"\n",
              "                title=\"Suggest charts\"\n",
              "                style=\"display:none;\">\n",
              "\n",
              "<svg xmlns=\"http://www.w3.org/2000/svg\" height=\"24px\"viewBox=\"0 0 24 24\"\n",
              "     width=\"24px\">\n",
              "    <g>\n",
              "        <path d=\"M19 3H5c-1.1 0-2 .9-2 2v14c0 1.1.9 2 2 2h14c1.1 0 2-.9 2-2V5c0-1.1-.9-2-2-2zM9 17H7v-7h2v7zm4 0h-2V7h2v10zm4 0h-2v-4h2v4z\"/>\n",
              "    </g>\n",
              "</svg>\n",
              "      </button>\n",
              "\n",
              "<style>\n",
              "  .colab-df-quickchart {\n",
              "      --bg-color: #E8F0FE;\n",
              "      --fill-color: #1967D2;\n",
              "      --hover-bg-color: #E2EBFA;\n",
              "      --hover-fill-color: #174EA6;\n",
              "      --disabled-fill-color: #AAA;\n",
              "      --disabled-bg-color: #DDD;\n",
              "  }\n",
              "\n",
              "  [theme=dark] .colab-df-quickchart {\n",
              "      --bg-color: #3B4455;\n",
              "      --fill-color: #D2E3FC;\n",
              "      --hover-bg-color: #434B5C;\n",
              "      --hover-fill-color: #FFFFFF;\n",
              "      --disabled-bg-color: #3B4455;\n",
              "      --disabled-fill-color: #666;\n",
              "  }\n",
              "\n",
              "  .colab-df-quickchart {\n",
              "    background-color: var(--bg-color);\n",
              "    border: none;\n",
              "    border-radius: 50%;\n",
              "    cursor: pointer;\n",
              "    display: none;\n",
              "    fill: var(--fill-color);\n",
              "    height: 32px;\n",
              "    padding: 0;\n",
              "    width: 32px;\n",
              "  }\n",
              "\n",
              "  .colab-df-quickchart:hover {\n",
              "    background-color: var(--hover-bg-color);\n",
              "    box-shadow: 0 1px 2px rgba(60, 64, 67, 0.3), 0 1px 3px 1px rgba(60, 64, 67, 0.15);\n",
              "    fill: var(--button-hover-fill-color);\n",
              "  }\n",
              "\n",
              "  .colab-df-quickchart-complete:disabled,\n",
              "  .colab-df-quickchart-complete:disabled:hover {\n",
              "    background-color: var(--disabled-bg-color);\n",
              "    fill: var(--disabled-fill-color);\n",
              "    box-shadow: none;\n",
              "  }\n",
              "\n",
              "  .colab-df-spinner {\n",
              "    border: 2px solid var(--fill-color);\n",
              "    border-color: transparent;\n",
              "    border-bottom-color: var(--fill-color);\n",
              "    animation:\n",
              "      spin 1s steps(1) infinite;\n",
              "  }\n",
              "\n",
              "  @keyframes spin {\n",
              "    0% {\n",
              "      border-color: transparent;\n",
              "      border-bottom-color: var(--fill-color);\n",
              "      border-left-color: var(--fill-color);\n",
              "    }\n",
              "    20% {\n",
              "      border-color: transparent;\n",
              "      border-left-color: var(--fill-color);\n",
              "      border-top-color: var(--fill-color);\n",
              "    }\n",
              "    30% {\n",
              "      border-color: transparent;\n",
              "      border-left-color: var(--fill-color);\n",
              "      border-top-color: var(--fill-color);\n",
              "      border-right-color: var(--fill-color);\n",
              "    }\n",
              "    40% {\n",
              "      border-color: transparent;\n",
              "      border-right-color: var(--fill-color);\n",
              "      border-top-color: var(--fill-color);\n",
              "    }\n",
              "    60% {\n",
              "      border-color: transparent;\n",
              "      border-right-color: var(--fill-color);\n",
              "    }\n",
              "    80% {\n",
              "      border-color: transparent;\n",
              "      border-right-color: var(--fill-color);\n",
              "      border-bottom-color: var(--fill-color);\n",
              "    }\n",
              "    90% {\n",
              "      border-color: transparent;\n",
              "      border-bottom-color: var(--fill-color);\n",
              "    }\n",
              "  }\n",
              "</style>\n",
              "\n",
              "      <script>\n",
              "        async function quickchart(key) {\n",
              "          const quickchartButtonEl =\n",
              "            document.querySelector('#' + key + ' button');\n",
              "          quickchartButtonEl.disabled = true;  // To prevent multiple clicks.\n",
              "          quickchartButtonEl.classList.add('colab-df-spinner');\n",
              "          try {\n",
              "            const charts = await google.colab.kernel.invokeFunction(\n",
              "                'suggestCharts', [key], {});\n",
              "          } catch (error) {\n",
              "            console.error('Error during call to suggestCharts:', error);\n",
              "          }\n",
              "          quickchartButtonEl.classList.remove('colab-df-spinner');\n",
              "          quickchartButtonEl.classList.add('colab-df-quickchart-complete');\n",
              "        }\n",
              "        (() => {\n",
              "          let quickchartButtonEl =\n",
              "            document.querySelector('#df-488953c7-8c6d-4513-afef-544c6442d84d button');\n",
              "          quickchartButtonEl.style.display =\n",
              "            google.colab.kernel.accessAllowed ? 'block' : 'none';\n",
              "        })();\n",
              "      </script>\n",
              "    </div>\n",
              "\n",
              "  <div id=\"id_69e641f9-f439-4f92-8367-2a7ed273ec7a\">\n",
              "    <style>\n",
              "      .colab-df-generate {\n",
              "        background-color: #E8F0FE;\n",
              "        border: none;\n",
              "        border-radius: 50%;\n",
              "        cursor: pointer;\n",
              "        display: none;\n",
              "        fill: #1967D2;\n",
              "        height: 32px;\n",
              "        padding: 0 0 0 0;\n",
              "        width: 32px;\n",
              "      }\n",
              "\n",
              "      .colab-df-generate:hover {\n",
              "        background-color: #E2EBFA;\n",
              "        box-shadow: 0px 1px 2px rgba(60, 64, 67, 0.3), 0px 1px 3px 1px rgba(60, 64, 67, 0.15);\n",
              "        fill: #174EA6;\n",
              "      }\n",
              "\n",
              "      [theme=dark] .colab-df-generate {\n",
              "        background-color: #3B4455;\n",
              "        fill: #D2E3FC;\n",
              "      }\n",
              "\n",
              "      [theme=dark] .colab-df-generate:hover {\n",
              "        background-color: #434B5C;\n",
              "        box-shadow: 0px 1px 3px 1px rgba(0, 0, 0, 0.15);\n",
              "        filter: drop-shadow(0px 1px 2px rgba(0, 0, 0, 0.3));\n",
              "        fill: #FFFFFF;\n",
              "      }\n",
              "    </style>\n",
              "    <button class=\"colab-df-generate\" onclick=\"generateWithVariable('df')\"\n",
              "            title=\"Generate code using this dataframe.\"\n",
              "            style=\"display:none;\">\n",
              "\n",
              "  <svg xmlns=\"http://www.w3.org/2000/svg\" height=\"24px\"viewBox=\"0 0 24 24\"\n",
              "       width=\"24px\">\n",
              "    <path d=\"M7,19H8.4L18.45,9,17,7.55,7,17.6ZM5,21V16.75L18.45,3.32a2,2,0,0,1,2.83,0l1.4,1.43a1.91,1.91,0,0,1,.58,1.4,1.91,1.91,0,0,1-.58,1.4L9.25,21ZM18.45,9,17,7.55Zm-12,3A5.31,5.31,0,0,0,4.9,8.1,5.31,5.31,0,0,0,1,6.5,5.31,5.31,0,0,0,4.9,4.9,5.31,5.31,0,0,0,6.5,1,5.31,5.31,0,0,0,8.1,4.9,5.31,5.31,0,0,0,12,6.5,5.46,5.46,0,0,0,6.5,12Z\"/>\n",
              "  </svg>\n",
              "    </button>\n",
              "    <script>\n",
              "      (() => {\n",
              "      const buttonEl =\n",
              "        document.querySelector('#id_69e641f9-f439-4f92-8367-2a7ed273ec7a button.colab-df-generate');\n",
              "      buttonEl.style.display =\n",
              "        google.colab.kernel.accessAllowed ? 'block' : 'none';\n",
              "\n",
              "      buttonEl.onclick = () => {\n",
              "        google.colab.notebook.generateWithVariable('df');\n",
              "      }\n",
              "      })();\n",
              "    </script>\n",
              "  </div>\n",
              "\n",
              "    </div>\n",
              "  </div>\n"
            ],
            "application/vnd.google.colaboratory.intrinsic+json": {
              "type": "dataframe",
              "variable_name": "df"
            }
          },
          "metadata": {},
          "execution_count": 4
        }
      ],
      "source": [
        "df"
      ]
    },
    {
      "cell_type": "markdown",
      "metadata": {
        "id": "u03AHON_wPXt"
      },
      "source": [
        "To get summary statistics about all these, use the .describe() method of the dataframe:"
      ]
    },
    {
      "cell_type": "code",
      "execution_count": null,
      "metadata": {
        "id": "przwihQuwPXv",
        "colab": {
          "base_uri": "https://localhost:8080/",
          "height": 350
        },
        "outputId": "a002a6e9-6545-4271-9c7e-c55b91e4d949"
      },
      "outputs": [
        {
          "output_type": "execute_result",
          "data": {
            "text/plain": [
              "          Unnamed: 0   Diabetes_012         HighBP       HighChol  \\\n",
              "count  253680.000000  253680.000000  253680.000000  253680.000000   \n",
              "mean   126839.500000       0.296921       0.429001       0.424121   \n",
              "std     73231.252481       0.698160       0.494934       0.494210   \n",
              "min         0.000000       0.000000       0.000000       0.000000   \n",
              "25%     63419.750000       0.000000       0.000000       0.000000   \n",
              "50%    126839.500000       0.000000       0.000000       0.000000   \n",
              "75%    190259.250000       0.000000       1.000000       1.000000   \n",
              "max    253679.000000       2.000000       1.000000       1.000000   \n",
              "\n",
              "           CholCheck            BMI         Smoker         Stroke  \\\n",
              "count  253680.000000  253680.000000  253680.000000  253680.000000   \n",
              "mean        0.962670      28.382364       0.443169       0.040571   \n",
              "std         0.189571       6.608694       0.496761       0.197294   \n",
              "min         0.000000      12.000000       0.000000       0.000000   \n",
              "25%         1.000000      24.000000       0.000000       0.000000   \n",
              "50%         1.000000      27.000000       0.000000       0.000000   \n",
              "75%         1.000000      31.000000       1.000000       0.000000   \n",
              "max         1.000000      98.000000       1.000000       1.000000   \n",
              "\n",
              "       HeartDiseaseorAttack   PhysActivity  ...  AnyHealthcare    NoDocbcCost  \\\n",
              "count         253680.000000  253680.000000  ...  253680.000000  253680.000000   \n",
              "mean               0.094186       0.756544  ...       0.951053       0.084177   \n",
              "std                0.292087       0.429169  ...       0.215759       0.277654   \n",
              "min                0.000000       0.000000  ...       0.000000       0.000000   \n",
              "25%                0.000000       1.000000  ...       1.000000       0.000000   \n",
              "50%                0.000000       1.000000  ...       1.000000       0.000000   \n",
              "75%                0.000000       1.000000  ...       1.000000       0.000000   \n",
              "max                1.000000       1.000000  ...       1.000000       1.000000   \n",
              "\n",
              "             GenHlth       MentHlth       PhysHlth       DiffWalk  \\\n",
              "count  253680.000000  253680.000000  253680.000000  253680.000000   \n",
              "mean        2.511392       3.184772       4.242081       0.168224   \n",
              "std         1.068477       7.412847       8.717951       0.374066   \n",
              "min         1.000000       0.000000       0.000000       0.000000   \n",
              "25%         2.000000       0.000000       0.000000       0.000000   \n",
              "50%         2.000000       0.000000       0.000000       0.000000   \n",
              "75%         3.000000       2.000000       3.000000       0.000000   \n",
              "max         5.000000      30.000000      30.000000       1.000000   \n",
              "\n",
              "                 Sex            Age      Education         Income  \n",
              "count  253680.000000  253680.000000  253680.000000  253680.000000  \n",
              "mean        0.440342      57.138127       5.050434       6.053875  \n",
              "std         0.496429      15.323466       0.985774       2.071148  \n",
              "min         0.000000      21.000000       1.000000       1.000000  \n",
              "25%         0.000000      47.000000       4.000000       5.000000  \n",
              "50%         0.000000      57.000000       5.000000       7.000000  \n",
              "75%         1.000000      67.000000       6.000000       8.000000  \n",
              "max         1.000000      82.000000       6.000000       8.000000  \n",
              "\n",
              "[8 rows x 23 columns]"
            ],
            "text/html": [
              "\n",
              "  <div id=\"df-df8afcdf-c15d-4840-837c-24c024ecfd60\" class=\"colab-df-container\">\n",
              "    <div>\n",
              "<style scoped>\n",
              "    .dataframe tbody tr th:only-of-type {\n",
              "        vertical-align: middle;\n",
              "    }\n",
              "\n",
              "    .dataframe tbody tr th {\n",
              "        vertical-align: top;\n",
              "    }\n",
              "\n",
              "    .dataframe thead th {\n",
              "        text-align: right;\n",
              "    }\n",
              "</style>\n",
              "<table border=\"1\" class=\"dataframe\">\n",
              "  <thead>\n",
              "    <tr style=\"text-align: right;\">\n",
              "      <th></th>\n",
              "      <th>Unnamed: 0</th>\n",
              "      <th>Diabetes_012</th>\n",
              "      <th>HighBP</th>\n",
              "      <th>HighChol</th>\n",
              "      <th>CholCheck</th>\n",
              "      <th>BMI</th>\n",
              "      <th>Smoker</th>\n",
              "      <th>Stroke</th>\n",
              "      <th>HeartDiseaseorAttack</th>\n",
              "      <th>PhysActivity</th>\n",
              "      <th>...</th>\n",
              "      <th>AnyHealthcare</th>\n",
              "      <th>NoDocbcCost</th>\n",
              "      <th>GenHlth</th>\n",
              "      <th>MentHlth</th>\n",
              "      <th>PhysHlth</th>\n",
              "      <th>DiffWalk</th>\n",
              "      <th>Sex</th>\n",
              "      <th>Age</th>\n",
              "      <th>Education</th>\n",
              "      <th>Income</th>\n",
              "    </tr>\n",
              "  </thead>\n",
              "  <tbody>\n",
              "    <tr>\n",
              "      <th>count</th>\n",
              "      <td>253680.000000</td>\n",
              "      <td>253680.000000</td>\n",
              "      <td>253680.000000</td>\n",
              "      <td>253680.000000</td>\n",
              "      <td>253680.000000</td>\n",
              "      <td>253680.000000</td>\n",
              "      <td>253680.000000</td>\n",
              "      <td>253680.000000</td>\n",
              "      <td>253680.000000</td>\n",
              "      <td>253680.000000</td>\n",
              "      <td>...</td>\n",
              "      <td>253680.000000</td>\n",
              "      <td>253680.000000</td>\n",
              "      <td>253680.000000</td>\n",
              "      <td>253680.000000</td>\n",
              "      <td>253680.000000</td>\n",
              "      <td>253680.000000</td>\n",
              "      <td>253680.000000</td>\n",
              "      <td>253680.000000</td>\n",
              "      <td>253680.000000</td>\n",
              "      <td>253680.000000</td>\n",
              "    </tr>\n",
              "    <tr>\n",
              "      <th>mean</th>\n",
              "      <td>126839.500000</td>\n",
              "      <td>0.296921</td>\n",
              "      <td>0.429001</td>\n",
              "      <td>0.424121</td>\n",
              "      <td>0.962670</td>\n",
              "      <td>28.382364</td>\n",
              "      <td>0.443169</td>\n",
              "      <td>0.040571</td>\n",
              "      <td>0.094186</td>\n",
              "      <td>0.756544</td>\n",
              "      <td>...</td>\n",
              "      <td>0.951053</td>\n",
              "      <td>0.084177</td>\n",
              "      <td>2.511392</td>\n",
              "      <td>3.184772</td>\n",
              "      <td>4.242081</td>\n",
              "      <td>0.168224</td>\n",
              "      <td>0.440342</td>\n",
              "      <td>57.138127</td>\n",
              "      <td>5.050434</td>\n",
              "      <td>6.053875</td>\n",
              "    </tr>\n",
              "    <tr>\n",
              "      <th>std</th>\n",
              "      <td>73231.252481</td>\n",
              "      <td>0.698160</td>\n",
              "      <td>0.494934</td>\n",
              "      <td>0.494210</td>\n",
              "      <td>0.189571</td>\n",
              "      <td>6.608694</td>\n",
              "      <td>0.496761</td>\n",
              "      <td>0.197294</td>\n",
              "      <td>0.292087</td>\n",
              "      <td>0.429169</td>\n",
              "      <td>...</td>\n",
              "      <td>0.215759</td>\n",
              "      <td>0.277654</td>\n",
              "      <td>1.068477</td>\n",
              "      <td>7.412847</td>\n",
              "      <td>8.717951</td>\n",
              "      <td>0.374066</td>\n",
              "      <td>0.496429</td>\n",
              "      <td>15.323466</td>\n",
              "      <td>0.985774</td>\n",
              "      <td>2.071148</td>\n",
              "    </tr>\n",
              "    <tr>\n",
              "      <th>min</th>\n",
              "      <td>0.000000</td>\n",
              "      <td>0.000000</td>\n",
              "      <td>0.000000</td>\n",
              "      <td>0.000000</td>\n",
              "      <td>0.000000</td>\n",
              "      <td>12.000000</td>\n",
              "      <td>0.000000</td>\n",
              "      <td>0.000000</td>\n",
              "      <td>0.000000</td>\n",
              "      <td>0.000000</td>\n",
              "      <td>...</td>\n",
              "      <td>0.000000</td>\n",
              "      <td>0.000000</td>\n",
              "      <td>1.000000</td>\n",
              "      <td>0.000000</td>\n",
              "      <td>0.000000</td>\n",
              "      <td>0.000000</td>\n",
              "      <td>0.000000</td>\n",
              "      <td>21.000000</td>\n",
              "      <td>1.000000</td>\n",
              "      <td>1.000000</td>\n",
              "    </tr>\n",
              "    <tr>\n",
              "      <th>25%</th>\n",
              "      <td>63419.750000</td>\n",
              "      <td>0.000000</td>\n",
              "      <td>0.000000</td>\n",
              "      <td>0.000000</td>\n",
              "      <td>1.000000</td>\n",
              "      <td>24.000000</td>\n",
              "      <td>0.000000</td>\n",
              "      <td>0.000000</td>\n",
              "      <td>0.000000</td>\n",
              "      <td>1.000000</td>\n",
              "      <td>...</td>\n",
              "      <td>1.000000</td>\n",
              "      <td>0.000000</td>\n",
              "      <td>2.000000</td>\n",
              "      <td>0.000000</td>\n",
              "      <td>0.000000</td>\n",
              "      <td>0.000000</td>\n",
              "      <td>0.000000</td>\n",
              "      <td>47.000000</td>\n",
              "      <td>4.000000</td>\n",
              "      <td>5.000000</td>\n",
              "    </tr>\n",
              "    <tr>\n",
              "      <th>50%</th>\n",
              "      <td>126839.500000</td>\n",
              "      <td>0.000000</td>\n",
              "      <td>0.000000</td>\n",
              "      <td>0.000000</td>\n",
              "      <td>1.000000</td>\n",
              "      <td>27.000000</td>\n",
              "      <td>0.000000</td>\n",
              "      <td>0.000000</td>\n",
              "      <td>0.000000</td>\n",
              "      <td>1.000000</td>\n",
              "      <td>...</td>\n",
              "      <td>1.000000</td>\n",
              "      <td>0.000000</td>\n",
              "      <td>2.000000</td>\n",
              "      <td>0.000000</td>\n",
              "      <td>0.000000</td>\n",
              "      <td>0.000000</td>\n",
              "      <td>0.000000</td>\n",
              "      <td>57.000000</td>\n",
              "      <td>5.000000</td>\n",
              "      <td>7.000000</td>\n",
              "    </tr>\n",
              "    <tr>\n",
              "      <th>75%</th>\n",
              "      <td>190259.250000</td>\n",
              "      <td>0.000000</td>\n",
              "      <td>1.000000</td>\n",
              "      <td>1.000000</td>\n",
              "      <td>1.000000</td>\n",
              "      <td>31.000000</td>\n",
              "      <td>1.000000</td>\n",
              "      <td>0.000000</td>\n",
              "      <td>0.000000</td>\n",
              "      <td>1.000000</td>\n",
              "      <td>...</td>\n",
              "      <td>1.000000</td>\n",
              "      <td>0.000000</td>\n",
              "      <td>3.000000</td>\n",
              "      <td>2.000000</td>\n",
              "      <td>3.000000</td>\n",
              "      <td>0.000000</td>\n",
              "      <td>1.000000</td>\n",
              "      <td>67.000000</td>\n",
              "      <td>6.000000</td>\n",
              "      <td>8.000000</td>\n",
              "    </tr>\n",
              "    <tr>\n",
              "      <th>max</th>\n",
              "      <td>253679.000000</td>\n",
              "      <td>2.000000</td>\n",
              "      <td>1.000000</td>\n",
              "      <td>1.000000</td>\n",
              "      <td>1.000000</td>\n",
              "      <td>98.000000</td>\n",
              "      <td>1.000000</td>\n",
              "      <td>1.000000</td>\n",
              "      <td>1.000000</td>\n",
              "      <td>1.000000</td>\n",
              "      <td>...</td>\n",
              "      <td>1.000000</td>\n",
              "      <td>1.000000</td>\n",
              "      <td>5.000000</td>\n",
              "      <td>30.000000</td>\n",
              "      <td>30.000000</td>\n",
              "      <td>1.000000</td>\n",
              "      <td>1.000000</td>\n",
              "      <td>82.000000</td>\n",
              "      <td>6.000000</td>\n",
              "      <td>8.000000</td>\n",
              "    </tr>\n",
              "  </tbody>\n",
              "</table>\n",
              "<p>8 rows × 23 columns</p>\n",
              "</div>\n",
              "    <div class=\"colab-df-buttons\">\n",
              "\n",
              "  <div class=\"colab-df-container\">\n",
              "    <button class=\"colab-df-convert\" onclick=\"convertToInteractive('df-df8afcdf-c15d-4840-837c-24c024ecfd60')\"\n",
              "            title=\"Convert this dataframe to an interactive table.\"\n",
              "            style=\"display:none;\">\n",
              "\n",
              "  <svg xmlns=\"http://www.w3.org/2000/svg\" height=\"24px\" viewBox=\"0 -960 960 960\">\n",
              "    <path d=\"M120-120v-720h720v720H120Zm60-500h600v-160H180v160Zm220 220h160v-160H400v160Zm0 220h160v-160H400v160ZM180-400h160v-160H180v160Zm440 0h160v-160H620v160ZM180-180h160v-160H180v160Zm440 0h160v-160H620v160Z\"/>\n",
              "  </svg>\n",
              "    </button>\n",
              "\n",
              "  <style>\n",
              "    .colab-df-container {\n",
              "      display:flex;\n",
              "      gap: 12px;\n",
              "    }\n",
              "\n",
              "    .colab-df-convert {\n",
              "      background-color: #E8F0FE;\n",
              "      border: none;\n",
              "      border-radius: 50%;\n",
              "      cursor: pointer;\n",
              "      display: none;\n",
              "      fill: #1967D2;\n",
              "      height: 32px;\n",
              "      padding: 0 0 0 0;\n",
              "      width: 32px;\n",
              "    }\n",
              "\n",
              "    .colab-df-convert:hover {\n",
              "      background-color: #E2EBFA;\n",
              "      box-shadow: 0px 1px 2px rgba(60, 64, 67, 0.3), 0px 1px 3px 1px rgba(60, 64, 67, 0.15);\n",
              "      fill: #174EA6;\n",
              "    }\n",
              "\n",
              "    .colab-df-buttons div {\n",
              "      margin-bottom: 4px;\n",
              "    }\n",
              "\n",
              "    [theme=dark] .colab-df-convert {\n",
              "      background-color: #3B4455;\n",
              "      fill: #D2E3FC;\n",
              "    }\n",
              "\n",
              "    [theme=dark] .colab-df-convert:hover {\n",
              "      background-color: #434B5C;\n",
              "      box-shadow: 0px 1px 3px 1px rgba(0, 0, 0, 0.15);\n",
              "      filter: drop-shadow(0px 1px 2px rgba(0, 0, 0, 0.3));\n",
              "      fill: #FFFFFF;\n",
              "    }\n",
              "  </style>\n",
              "\n",
              "    <script>\n",
              "      const buttonEl =\n",
              "        document.querySelector('#df-df8afcdf-c15d-4840-837c-24c024ecfd60 button.colab-df-convert');\n",
              "      buttonEl.style.display =\n",
              "        google.colab.kernel.accessAllowed ? 'block' : 'none';\n",
              "\n",
              "      async function convertToInteractive(key) {\n",
              "        const element = document.querySelector('#df-df8afcdf-c15d-4840-837c-24c024ecfd60');\n",
              "        const dataTable =\n",
              "          await google.colab.kernel.invokeFunction('convertToInteractive',\n",
              "                                                    [key], {});\n",
              "        if (!dataTable) return;\n",
              "\n",
              "        const docLinkHtml = 'Like what you see? Visit the ' +\n",
              "          '<a target=\"_blank\" href=https://colab.research.google.com/notebooks/data_table.ipynb>data table notebook</a>'\n",
              "          + ' to learn more about interactive tables.';\n",
              "        element.innerHTML = '';\n",
              "        dataTable['output_type'] = 'display_data';\n",
              "        await google.colab.output.renderOutput(dataTable, element);\n",
              "        const docLink = document.createElement('div');\n",
              "        docLink.innerHTML = docLinkHtml;\n",
              "        element.appendChild(docLink);\n",
              "      }\n",
              "    </script>\n",
              "  </div>\n",
              "\n",
              "\n",
              "    <div id=\"df-b483a491-2f5a-4444-9cb7-796dae903a4a\">\n",
              "      <button class=\"colab-df-quickchart\" onclick=\"quickchart('df-b483a491-2f5a-4444-9cb7-796dae903a4a')\"\n",
              "                title=\"Suggest charts\"\n",
              "                style=\"display:none;\">\n",
              "\n",
              "<svg xmlns=\"http://www.w3.org/2000/svg\" height=\"24px\"viewBox=\"0 0 24 24\"\n",
              "     width=\"24px\">\n",
              "    <g>\n",
              "        <path d=\"M19 3H5c-1.1 0-2 .9-2 2v14c0 1.1.9 2 2 2h14c1.1 0 2-.9 2-2V5c0-1.1-.9-2-2-2zM9 17H7v-7h2v7zm4 0h-2V7h2v10zm4 0h-2v-4h2v4z\"/>\n",
              "    </g>\n",
              "</svg>\n",
              "      </button>\n",
              "\n",
              "<style>\n",
              "  .colab-df-quickchart {\n",
              "      --bg-color: #E8F0FE;\n",
              "      --fill-color: #1967D2;\n",
              "      --hover-bg-color: #E2EBFA;\n",
              "      --hover-fill-color: #174EA6;\n",
              "      --disabled-fill-color: #AAA;\n",
              "      --disabled-bg-color: #DDD;\n",
              "  }\n",
              "\n",
              "  [theme=dark] .colab-df-quickchart {\n",
              "      --bg-color: #3B4455;\n",
              "      --fill-color: #D2E3FC;\n",
              "      --hover-bg-color: #434B5C;\n",
              "      --hover-fill-color: #FFFFFF;\n",
              "      --disabled-bg-color: #3B4455;\n",
              "      --disabled-fill-color: #666;\n",
              "  }\n",
              "\n",
              "  .colab-df-quickchart {\n",
              "    background-color: var(--bg-color);\n",
              "    border: none;\n",
              "    border-radius: 50%;\n",
              "    cursor: pointer;\n",
              "    display: none;\n",
              "    fill: var(--fill-color);\n",
              "    height: 32px;\n",
              "    padding: 0;\n",
              "    width: 32px;\n",
              "  }\n",
              "\n",
              "  .colab-df-quickchart:hover {\n",
              "    background-color: var(--hover-bg-color);\n",
              "    box-shadow: 0 1px 2px rgba(60, 64, 67, 0.3), 0 1px 3px 1px rgba(60, 64, 67, 0.15);\n",
              "    fill: var(--button-hover-fill-color);\n",
              "  }\n",
              "\n",
              "  .colab-df-quickchart-complete:disabled,\n",
              "  .colab-df-quickchart-complete:disabled:hover {\n",
              "    background-color: var(--disabled-bg-color);\n",
              "    fill: var(--disabled-fill-color);\n",
              "    box-shadow: none;\n",
              "  }\n",
              "\n",
              "  .colab-df-spinner {\n",
              "    border: 2px solid var(--fill-color);\n",
              "    border-color: transparent;\n",
              "    border-bottom-color: var(--fill-color);\n",
              "    animation:\n",
              "      spin 1s steps(1) infinite;\n",
              "  }\n",
              "\n",
              "  @keyframes spin {\n",
              "    0% {\n",
              "      border-color: transparent;\n",
              "      border-bottom-color: var(--fill-color);\n",
              "      border-left-color: var(--fill-color);\n",
              "    }\n",
              "    20% {\n",
              "      border-color: transparent;\n",
              "      border-left-color: var(--fill-color);\n",
              "      border-top-color: var(--fill-color);\n",
              "    }\n",
              "    30% {\n",
              "      border-color: transparent;\n",
              "      border-left-color: var(--fill-color);\n",
              "      border-top-color: var(--fill-color);\n",
              "      border-right-color: var(--fill-color);\n",
              "    }\n",
              "    40% {\n",
              "      border-color: transparent;\n",
              "      border-right-color: var(--fill-color);\n",
              "      border-top-color: var(--fill-color);\n",
              "    }\n",
              "    60% {\n",
              "      border-color: transparent;\n",
              "      border-right-color: var(--fill-color);\n",
              "    }\n",
              "    80% {\n",
              "      border-color: transparent;\n",
              "      border-right-color: var(--fill-color);\n",
              "      border-bottom-color: var(--fill-color);\n",
              "    }\n",
              "    90% {\n",
              "      border-color: transparent;\n",
              "      border-bottom-color: var(--fill-color);\n",
              "    }\n",
              "  }\n",
              "</style>\n",
              "\n",
              "      <script>\n",
              "        async function quickchart(key) {\n",
              "          const quickchartButtonEl =\n",
              "            document.querySelector('#' + key + ' button');\n",
              "          quickchartButtonEl.disabled = true;  // To prevent multiple clicks.\n",
              "          quickchartButtonEl.classList.add('colab-df-spinner');\n",
              "          try {\n",
              "            const charts = await google.colab.kernel.invokeFunction(\n",
              "                'suggestCharts', [key], {});\n",
              "          } catch (error) {\n",
              "            console.error('Error during call to suggestCharts:', error);\n",
              "          }\n",
              "          quickchartButtonEl.classList.remove('colab-df-spinner');\n",
              "          quickchartButtonEl.classList.add('colab-df-quickchart-complete');\n",
              "        }\n",
              "        (() => {\n",
              "          let quickchartButtonEl =\n",
              "            document.querySelector('#df-b483a491-2f5a-4444-9cb7-796dae903a4a button');\n",
              "          quickchartButtonEl.style.display =\n",
              "            google.colab.kernel.accessAllowed ? 'block' : 'none';\n",
              "        })();\n",
              "      </script>\n",
              "    </div>\n",
              "\n",
              "    </div>\n",
              "  </div>\n"
            ],
            "application/vnd.google.colaboratory.intrinsic+json": {
              "type": "dataframe"
            }
          },
          "metadata": {},
          "execution_count": 5
        }
      ],
      "source": [
        "df.describe()"
      ]
    },
    {
      "cell_type": "markdown",
      "metadata": {
        "id": "mpTPOvq5wPXw"
      },
      "source": [
        "## Probabilities\n",
        "\n",
        "We can estimate probabilities from this sample of the population.\n",
        "\n",
        "Probabilities can be defined as the limit between the ratio of the number of positive outcomes (e.g. heads, if flipping a coin) and the number of trials:\n",
        "\n",
        "$$P(Y = y) = \\lim_{N \\rightarrow \\infty} \\frac{n_y}{N}$$\n",
        "\n",
        "If you only have a finite number of samples, we can assume that the ratio is still approximately correct for now:\n",
        "\n",
        "$$P(Y = y) \\approx \\frac{n_y}{N}$$\n",
        "\n",
        "### Using the dataset to find some probabilities\n",
        "\n",
        "What is the probability a person in this dataset is under 50?\n",
        "\n",
        "As with numpy arrays, we can do a boolean operation on all of them to get a boolean array of which items the condition is true for:"
      ]
    },
    {
      "cell_type": "code",
      "source": [
        "df['Age']<50"
      ],
      "metadata": {
        "id": "wLCquWFO-PDe",
        "colab": {
          "base_uri": "https://localhost:8080/",
          "height": 458
        },
        "outputId": "3bf22dc3-c726-4587-d0df-ec2a0a542790"
      },
      "execution_count": null,
      "outputs": [
        {
          "output_type": "execute_result",
          "data": {
            "text/plain": [
              "0         False\n",
              "1         False\n",
              "2         False\n",
              "3         False\n",
              "4         False\n",
              "          ...  \n",
              "253675     True\n",
              "253676    False\n",
              "253677     True\n",
              "253678    False\n",
              "253679    False\n",
              "Name: Age, Length: 253680, dtype: bool"
            ],
            "text/html": [
              "<div>\n",
              "<style scoped>\n",
              "    .dataframe tbody tr th:only-of-type {\n",
              "        vertical-align: middle;\n",
              "    }\n",
              "\n",
              "    .dataframe tbody tr th {\n",
              "        vertical-align: top;\n",
              "    }\n",
              "\n",
              "    .dataframe thead th {\n",
              "        text-align: right;\n",
              "    }\n",
              "</style>\n",
              "<table border=\"1\" class=\"dataframe\">\n",
              "  <thead>\n",
              "    <tr style=\"text-align: right;\">\n",
              "      <th></th>\n",
              "      <th>Age</th>\n",
              "    </tr>\n",
              "  </thead>\n",
              "  <tbody>\n",
              "    <tr>\n",
              "      <th>0</th>\n",
              "      <td>False</td>\n",
              "    </tr>\n",
              "    <tr>\n",
              "      <th>1</th>\n",
              "      <td>False</td>\n",
              "    </tr>\n",
              "    <tr>\n",
              "      <th>2</th>\n",
              "      <td>False</td>\n",
              "    </tr>\n",
              "    <tr>\n",
              "      <th>3</th>\n",
              "      <td>False</td>\n",
              "    </tr>\n",
              "    <tr>\n",
              "      <th>4</th>\n",
              "      <td>False</td>\n",
              "    </tr>\n",
              "    <tr>\n",
              "      <th>...</th>\n",
              "      <td>...</td>\n",
              "    </tr>\n",
              "    <tr>\n",
              "      <th>253675</th>\n",
              "      <td>True</td>\n",
              "    </tr>\n",
              "    <tr>\n",
              "      <th>253676</th>\n",
              "      <td>False</td>\n",
              "    </tr>\n",
              "    <tr>\n",
              "      <th>253677</th>\n",
              "      <td>True</td>\n",
              "    </tr>\n",
              "    <tr>\n",
              "      <th>253678</th>\n",
              "      <td>False</td>\n",
              "    </tr>\n",
              "    <tr>\n",
              "      <th>253679</th>\n",
              "      <td>False</td>\n",
              "    </tr>\n",
              "  </tbody>\n",
              "</table>\n",
              "<p>253680 rows × 1 columns</p>\n",
              "</div><br><label><b>dtype:</b> bool</label>"
            ]
          },
          "metadata": {},
          "execution_count": 6
        }
      ]
    },
    {
      "cell_type": "markdown",
      "source": [
        "If we ask for the mean, it will give us the proportion that are true:"
      ],
      "metadata": {
        "id": "hk8SgsC4-VFv"
      }
    },
    {
      "cell_type": "code",
      "execution_count": null,
      "metadata": {
        "id": "slTpDgigwPXy",
        "colab": {
          "base_uri": "https://localhost:8080/"
        },
        "outputId": "5cf39052-a1af-4f1a-e187-3f7090e7c6a4"
      },
      "outputs": [
        {
          "output_type": "stream",
          "name": "stdout",
          "text": [
            "29.3% of people in the dataset are <50 years old\n"
          ]
        }
      ],
      "source": [
        "P_AgeLessThan50 = np.mean(df['Age']<50) #we can use the mean as the comparison returns a boolean with False being treated as a zero, and a True as a one.\n",
        "print(\"%0.1f%% of people in the dataset are <50 years old\" % (100*P_AgeLessThan50))"
      ]
    },
    {
      "cell_type": "markdown",
      "metadata": {
        "id": "LXDq50DLwPXy"
      },
      "source": [
        "What is the probability a person in the dataset is under 50 AND regularly eats vegatables? (JOINT PROBABILITY)"
      ]
    },
    {
      "cell_type": "code",
      "execution_count": null,
      "metadata": {
        "id": "ptjNIxmdwPXy",
        "colab": {
          "base_uri": "https://localhost:8080/"
        },
        "outputId": "e63f6cff-0847-4778-a99b-ee3830ebb152"
      },
      "outputs": [
        {
          "output_type": "stream",
          "name": "stdout",
          "text": [
            "23.9% of people in the dataset are <50 years old AND eat vegetables.\n"
          ]
        }
      ],
      "source": [
        "P_AgeLessThan50andVeg = np.mean((df['Age']<50) & (df['Veggies']))\n",
        "print(\"%0.1f%% of people in the dataset are <50 years old AND eat vegetables.\" % (100*P_AgeLessThan50andVeg))"
      ]
    },
    {
      "cell_type": "markdown",
      "metadata": {
        "id": "KUGgou_gwPXz"
      },
      "source": [
        "### Product Rule\n",
        "\n",
        "What is the probability that they eat vegetables GIVEN they are under 50.\n",
        "\n",
        "The product rule for probability we learnt was:\n",
        "\n",
        "$$P(A,B) = P(A|B) P(B)$$\n",
        "\n",
        "If we rearrange it we can find the conditional probability (please make sure you understand this step):\n",
        "\n",
        "$$\\frac{P(Veg=true, Age<50)}{P(Age<50)} = P(Veg=true\\;|\\;Age<50)$$\n",
        "\n",
        "This is a conditional probability. Let's work it out:"
      ]
    },
    {
      "cell_type": "code",
      "execution_count": null,
      "metadata": {
        "id": "QN7jXEKCwPX0",
        "colab": {
          "base_uri": "https://localhost:8080/"
        },
        "outputId": "897eee8a-f1f9-41d8-f580-f88b25eef1c5"
      },
      "outputs": [
        {
          "output_type": "stream",
          "name": "stdout",
          "text": [
            "Probability of eating vegetables GIVEN they are under 50: 81.8%\n"
          ]
        }
      ],
      "source": [
        "#P(Veg|lt50) = P(Veg, lt50) / P(lt50)\n",
        "print(\"Probability of eating vegetables GIVEN they are under 50: %0.1f%%\" % (100*P_AgeLessThan50andVeg/P_AgeLessThan50))"
      ]
    },
    {
      "cell_type": "markdown",
      "metadata": {
        "id": "wDw_DOQiwPX1"
      },
      "source": [
        "We can check this a different way, by picking out those who are under 50, and the looking at the proportion of those who eat vegetables:"
      ]
    },
    {
      "cell_type": "code",
      "execution_count": null,
      "metadata": {
        "id": "-6_FwEeHwPX1",
        "colab": {
          "base_uri": "https://localhost:8080/"
        },
        "outputId": "34a1ea6b-24d0-4458-9833-243e4816472c"
      },
      "outputs": [
        {
          "output_type": "stream",
          "name": "stdout",
          "text": [
            "Probability of eating vegetables GIVEN they are under 50: 81.8%\n"
          ]
        }
      ],
      "source": [
        "dfAgeLessThan50 = df[df['Age']<50] #makes a new dataframe with just those under 50.\n",
        "\n",
        "#of this dataframe, the proportion who eat veg:\n",
        "print(\"Probability of eating vegetables GIVEN they are under 50: %0.1f%%\" % (100*np.mean(dfAgeLessThan50['Veggies'])))"
      ]
    },
    {
      "cell_type": "markdown",
      "metadata": {
        "id": "xN3gxHFtwPX2"
      },
      "source": [
        "### Exercise 1: Fruit, Vegetables and Indepence\n",
        "\n",
        "We can get if someone eats fruit regularly using `df['Fruits']==1` and if they eat veg regularly using `df['Veggies']==1`. Compute:\n",
        "\n",
        "- a. the probability of eating fruit regularly.\n",
        "- b. the probability of eating vegetables regularly.\n",
        "- c. the probability of eating both fruit AND vegetables regularly.\n",
        "- d. does it seem like they are independent or not?\n",
        "\n",
        "Tip:\n",
        "> You might find the error \"TypeError: unsupported operand type(s) for &: 'float' and 'float'\" when trying to find the proportion of those who eat fruit AND veg, you are trying to do a boolean & on two floats, i.e. \"1.0 & 1.0\". The trick is either a typecast or do something like: `np.mean((df['Veggies']==1) & (df['Fruits']==1))`"
      ]
    },
    {
      "cell_type": "markdown",
      "metadata": {
        "id": "ZuOfwrn7wPX2"
      },
      "source": [
        "---\n",
        "Answer here.\n",
        "\n",
        "---"
      ]
    },
    {
      "cell_type": "code",
      "source": [
        "df[df['Fruits']==1].shape[0]/len(df)*100"
      ],
      "metadata": {
        "colab": {
          "base_uri": "https://localhost:8080/"
        },
        "id": "sYKvBT6167Bz",
        "outputId": "de49d30a-23e2-49a9-d11f-3238549b0f99"
      },
      "execution_count": null,
      "outputs": [
        {
          "output_type": "execute_result",
          "data": {
            "text/plain": [
              "63.425575528224535"
            ]
          },
          "metadata": {},
          "execution_count": 11
        }
      ]
    },
    {
      "cell_type": "code",
      "source": [
        "print('Probability of eating fruits daily:',df[df['Fruits']==1].shape[0]/len(df)*100)\n",
        "print('Probability of eating veggies daily:',df[df['Veggies']==1].shape[0]/len(df)*100)\n",
        "print('Probability of eating fruits & veggies daily:',df[(df['Veggies']==1)&(df['Fruits']==1)].shape[0]/len(df)*100)\n",
        "\n"
      ],
      "metadata": {
        "colab": {
          "base_uri": "https://localhost:8080/"
        },
        "id": "yPPSBwYp5avT",
        "outputId": "83383b15-ae95-4cd8-b34f-ef4f370307f3"
      },
      "execution_count": null,
      "outputs": [
        {
          "output_type": "stream",
          "name": "stdout",
          "text": [
            "Probability of eating fruits daily: 63.425575528224535\n",
            "Probability of eating veggies daily: 81.1419899085462\n",
            "Probability of eating fruits & veggies daily: 56.25670135603911\n"
          ]
        }
      ]
    },
    {
      "cell_type": "markdown",
      "metadata": {
        "id": "L9bV4kvfwPX3"
      },
      "source": [
        "### Exercise 2: Diabetes\n",
        "\n",
        "We can find the proportion of the participants that have diabetes.\n",
        "\n",
        "The diabetes column is:\n",
        "\n",
        "- 0 = no diabetes\n",
        "- 1 = prediabetes\n",
        "- 2 = diabetes\n",
        "\n",
        "So we can write:"
      ]
    },
    {
      "cell_type": "code",
      "execution_count": null,
      "metadata": {
        "id": "xPxsC_ZGwPX3",
        "colab": {
          "base_uri": "https://localhost:8080/"
        },
        "outputId": "adccf826-7f10-4aa8-f0c2-1db44ae4fee5"
      },
      "outputs": [
        {
          "output_type": "stream",
          "name": "stdout",
          "text": [
            "Probability of diabetes (in this cohort): 13.9%\n"
          ]
        }
      ],
      "source": [
        "P_diabetes = np.mean(df['Diabetes_012']==2)\n",
        "print(\"Probability of diabetes (in this cohort): %0.1f%%\" % (100*np.mean(P_diabetes)))"
      ]
    },
    {
      "cell_type": "markdown",
      "metadata": {
        "id": "hH71ps87wPX4"
      },
      "source": [
        "- a. What proportion of those who eat fruit AND vegetables have diabetes?"
      ]
    },
    {
      "cell_type": "markdown",
      "source": [
        "---"
      ],
      "metadata": {
        "id": "Y96BEzTjUhfD"
      }
    },
    {
      "cell_type": "code",
      "execution_count": null,
      "metadata": {
        "id": "89XWE4vfwPX4",
        "colab": {
          "base_uri": "https://localhost:8080/"
        },
        "outputId": "e2ae4157-9a68-41bd-e78d-1bb59d291bb7"
      },
      "outputs": [
        {
          "output_type": "stream",
          "name": "stdout",
          "text": [
            "Probability of eating fruits & veggies and have diabetes: 6.842084515925576\n"
          ]
        }
      ],
      "source": [
        "#Answer here\n",
        "print('Probability of eating fruits & veggies and have diabetes:',df[(df['Veggies']==1)&(df['Fruits']==1)].loc[df['Diabetes_012']==2].shape[0]/len(df)*100)"
      ]
    },
    {
      "cell_type": "markdown",
      "source": [
        "---"
      ],
      "metadata": {
        "id": "DDzWZHNQUieF"
      }
    },
    {
      "cell_type": "code",
      "source": [
        "df[(df['Veggies']==1)&(df['Fruits']==1)].loc[df['Diabetes_012']==2].shape[0]/len(df)*100"
      ],
      "metadata": {
        "colab": {
          "base_uri": "https://localhost:8080/"
        },
        "id": "fUr4cMxr-CVm",
        "outputId": "12635b80-db92-480e-e0bb-d4f441013069"
      },
      "execution_count": null,
      "outputs": [
        {
          "output_type": "execute_result",
          "data": {
            "text/plain": [
              "6.842084515925576"
            ]
          },
          "metadata": {},
          "execution_count": 15
        }
      ]
    },
    {
      "cell_type": "code",
      "source": [
        " df[(df['Veggies']==1)&(df['Fruits']==1)&(df['Diabetes_012']==2)].shape[0]/len(df)*100"
      ],
      "metadata": {
        "colab": {
          "base_uri": "https://localhost:8080/"
        },
        "id": "dz-lfxLDAC8A",
        "outputId": "d9138c02-ae36-46bc-bdb1-b528a4468654"
      },
      "execution_count": null,
      "outputs": [
        {
          "output_type": "execute_result",
          "data": {
            "text/plain": [
              "6.842084515925576"
            ]
          },
          "metadata": {},
          "execution_count": 16
        }
      ]
    },
    {
      "cell_type": "markdown",
      "metadata": {
        "id": "UldPNLzuwPX5"
      },
      "source": [
        "- b. A smaller proportion of those who eat fruit and vegetables have diabetes, can we say from this that eating fruit and vegetables can reduce the risk of diabetes?"
      ]
    },
    {
      "cell_type": "code",
      "source": [
        "'yes'"
      ],
      "metadata": {
        "colab": {
          "base_uri": "https://localhost:8080/",
          "height": 35
        },
        "id": "uZ94dSi8-rAc",
        "outputId": "eb092bc0-0d85-47d9-c857-42adda316f60"
      },
      "execution_count": null,
      "outputs": [
        {
          "output_type": "execute_result",
          "data": {
            "text/plain": [
              "'yes'"
            ],
            "application/vnd.google.colaboratory.intrinsic+json": {
              "type": "string"
            }
          },
          "metadata": {},
          "execution_count": 17
        }
      ]
    },
    {
      "cell_type": "markdown",
      "source": [
        "---\n",
        "\n",
        "Answer here.\n",
        "\n",
        "---"
      ],
      "metadata": {
        "id": "VcpCjfRXT5xR"
      }
    },
    {
      "cell_type": "markdown",
      "metadata": {
        "id": "p6AgzQJMwPX6"
      },
      "source": [
        "### Exercise 3: Plotting\n",
        "\n",
        "One of the columns is the BMI (body mass index) of the participants. Let's plot it in a histogram."
      ]
    },
    {
      "cell_type": "code",
      "execution_count": null,
      "metadata": {
        "id": "hiyGWsQMwPX6",
        "colab": {
          "base_uri": "https://localhost:8080/",
          "height": 467
        },
        "outputId": "fd0df489-02fe-45ac-ff57-3397064faca2"
      },
      "outputs": [
        {
          "output_type": "execute_result",
          "data": {
            "text/plain": [
              "Text(0, 0.5, 'Frequency')"
            ]
          },
          "metadata": {},
          "execution_count": 18
        },
        {
          "output_type": "display_data",
          "data": {
            "text/plain": [
              "<Figure size 640x480 with 1 Axes>"
            ],
            "image/png": "[encoded data removed]"
          },
          "metadata": {}
        }
      ],
      "source": [
        "#it can be useful, for data that has both high counts and low, to switch to a log axis.\n",
        "#we can do this with the hist method by adding the log=True parameter (Try turning it on / off)\n",
        "plt.hist(df['BMI'],20)#,log=True);\n",
        "plt.grid()\n",
        "plt.xlabel('BMI')\n",
        "plt.ylabel('Frequency')"
      ]
    },
    {
      "cell_type": "markdown",
      "metadata": {
        "id": "vBIZAwvBwPX7"
      },
      "source": [
        "Exercise:\n",
        "    \n",
        "- a. The second parameter in the call to the `plt.hist` function selects the number of bins. Change it to 30 to get more detail.\n",
        "- b. Is this a normal distribution? Why/why not?"
      ]
    },
    {
      "cell_type": "code",
      "source": [
        "plt.hist(df['BMI'],30)#,log=True);\n",
        "plt.grid()\n",
        "plt.xlabel('BMI')\n",
        "plt.ylabel('Frequency')"
      ],
      "metadata": {
        "colab": {
          "base_uri": "https://localhost:8080/",
          "height": 472
        },
        "id": "639o12iR-8HO",
        "outputId": "d2289c5b-785f-490e-c8e8-a03fe25b2295"
      },
      "execution_count": null,
      "outputs": [
        {
          "output_type": "execute_result",
          "data": {
            "text/plain": [
              "Text(0, 0.5, 'Frequency')"
            ]
          },
          "metadata": {},
          "execution_count": 19
        },
        {
          "output_type": "display_data",
          "data": {
            "text/plain": [
              "<Figure size 640x480 with 1 Axes>"
            ],
            "image/png": "[encoded data removed]"
          },
          "metadata": {}
        }
      ]
    },
    {
      "cell_type": "markdown",
      "source": [
        "---\n",
        "\n",
        "Answer to b here.\n",
        "no it is left skewed\n",
        "\n",
        "---"
      ],
      "metadata": {
        "id": "7vJCdynYUvDa"
      }
    },
    {
      "cell_type": "markdown",
      "metadata": {
        "id": "JKsXTVU6wPX8"
      },
      "source": [
        "Let's look at how BMI and income interact. The 'Income' column is *categorical* (with category 1 meaning less than \\$10k/year; and category 8 means \\$75k/year or more). Full details are in the ['codebook' for the dataset](https://www.cdc.gov/brfss/annual_data/2015/pdf/codebook15_llcp.pdf).\n",
        "\n",
        "So we create two numpy arrays `BMIofLowIncome` and `BMIofHighIncome` containing the BMI values for those two groups. We can then plot them as histograms too. I've plotted the density (as the two groups are different sizes, this makes it easier to compare). A density means the area under both histograms each sum to one."
      ]
    },
    {
      "cell_type": "code",
      "execution_count": null,
      "metadata": {
        "id": "fFVsVqeYwPX9",
        "colab": {
          "base_uri": "https://localhost:8080/",
          "height": 467
        },
        "outputId": "1a6637bc-dc04-441f-ad3c-4e0848362fd6"
      },
      "outputs": [
        {
          "output_type": "execute_result",
          "data": {
            "text/plain": [
              "Text(0.5, 0, 'BMI')"
            ]
          },
          "metadata": {},
          "execution_count": 20
        },
        {
          "output_type": "display_data",
          "data": {
            "text/plain": [
              "<Figure size 640x480 with 1 Axes>"
            ],
            "image/png": "[encoded data removed]"
          },
          "metadata": {}
        }
      ],
      "source": [
        "BMIofLowIncome = df[df['Income']==1]['BMI'].to_numpy()\n",
        "BMIofHighIncome = df[df['Income']==8]['BMI'].to_numpy()\n",
        "plt.hist(BMIofLowIncome,20,density=True,histtype='stepfilled',color='skyblue',ec=\"black\",label=\"Lowest Income\")\n",
        "plt.hist(BMIofHighIncome,20,alpha=0.4,density=True,histtype='stepfilled',color='green',ec=\"black\",label=\"Highest Income\");\n",
        "plt.legend()\n",
        "plt.ylabel('Density')\n",
        "plt.xlabel('BMI')"
      ]
    },
    {
      "cell_type": "code",
      "source": [
        "print(\"Mean BMI of high income and low income groups: %0.1f, %0.1f kg/m^2\" % (np.mean(BMIofHighIncome),np.mean(BMIofLowIncome)))\n",
        "print(\"%0.1f%% of people in the high income group are severely obese, while %0.1f%% of people in the low income group are.\" % (100*np.mean(BMIofHighIncome>40),100*np.mean(BMIofLowIncome>40)))"
      ],
      "metadata": {
        "id": "vgRCxEhtVU9e",
        "colab": {
          "base_uri": "https://localhost:8080/"
        },
        "outputId": "f735bcb0-39d6-4158-99d4-d5b1b21e51e4"
      },
      "execution_count": null,
      "outputs": [
        {
          "output_type": "stream",
          "name": "stdout",
          "text": [
            "Mean BMI of high income and low income groups: 27.6, 29.7 kg/m^2\n",
            "2.6% of people in the high income group are severely obese, while 8.9% of people in the low income group are.\n"
          ]
        }
      ]
    },
    {
      "cell_type": "markdown",
      "metadata": {
        "id": "RlJ5HTeswPX-"
      },
      "source": [
        "Although the mean BMI is only slightly higher in the low income group, the increased variance means far more of those in the low income group have very high BMI values.\n",
        "\n",
        "### Exercise 4: Expectations and Moments\n",
        "\n",
        "We can compute the variance, using `np.var` of the two groups BMIs:"
      ]
    },
    {
      "cell_type": "code",
      "execution_count": null,
      "metadata": {
        "id": "ODO_iwDGwPX-",
        "colab": {
          "base_uri": "https://localhost:8080/"
        },
        "outputId": "1151fcc5-856a-43a7-d89a-1ade45c43077"
      },
      "outputs": [
        {
          "output_type": "execute_result",
          "data": {
            "text/plain": [
              "np.float64(66.6496538943384)"
            ]
          },
          "metadata": {},
          "execution_count": 22
        }
      ],
      "source": [
        "np.var(BMIofLowIncome)"
      ]
    },
    {
      "cell_type": "code",
      "execution_count": null,
      "metadata": {
        "id": "4-5dJ2ClwPX-",
        "colab": {
          "base_uri": "https://localhost:8080/"
        },
        "outputId": "a3bdaaed-d21a-4a3e-c976-c994b4ce9162"
      },
      "outputs": [
        {
          "output_type": "execute_result",
          "data": {
            "text/plain": [
              "np.float64(34.86457316522133)"
            ]
          },
          "metadata": {},
          "execution_count": 23
        }
      ],
      "source": [
        "np.var(BMIofHighIncome)"
      ]
    },
    {
      "cell_type": "markdown",
      "metadata": {
        "id": "IpDc33o-wPX-"
      },
      "source": [
        "- a. Can you compute the variance without using the `np.var` or `np.mean` functions? Instead think about how we computed the appropriate expectations. You might find `np.sum(x)` useful (this sums over a list or array) and `len(x)` which will give you the length of an array or list, x."
      ]
    },
    {
      "cell_type": "markdown",
      "source": [
        "---"
      ],
      "metadata": {
        "id": "-jrTL-4QWXz1"
      }
    },
    {
      "cell_type": "code",
      "execution_count": null,
      "metadata": {
        "id": "Jt2HLQqXwPX-",
        "colab": {
          "base_uri": "https://localhost:8080/"
        },
        "outputId": "d4996204-6baa-4c0a-d67a-6e963dc8603b"
      },
      "outputs": [
        {
          "output_type": "execute_result",
          "data": {
            "text/plain": [
              "np.float64(291367.9969729799)"
            ]
          },
          "metadata": {},
          "execution_count": 24
        }
      ],
      "source": [
        "#Answer here.\n",
        "np.sum((BMIofLowIncome-(BMIofLowIncome/len(BMIofLowIncome))/len(BMIofLowIncome)))"
      ]
    },
    {
      "cell_type": "code",
      "source": [
        "np.mean(BMIofLowIncome)"
      ],
      "metadata": {
        "colab": {
          "base_uri": "https://localhost:8080/"
        },
        "id": "VIkSPVPnX37s",
        "outputId": "3df98051-58f9-400c-83cc-223410bc49bc"
      },
      "execution_count": null,
      "outputs": [
        {
          "output_type": "execute_result",
          "data": {
            "text/plain": [
              "np.float64(29.69809397614922)"
            ]
          },
          "metadata": {},
          "execution_count": 25
        }
      ]
    },
    {
      "cell_type": "code",
      "source": [
        "mean=np.sum(BMIofLowIncome)/len(BMIofLowIncome)\n",
        "variance_bmi_low_inc=np.sum((BMIofLowIncome-mean)**2)/len(BMIofLowIncome)\n",
        "variance_bmi_low_inc"
      ],
      "metadata": {
        "colab": {
          "base_uri": "https://localhost:8080/"
        },
        "id": "jTcSHsQiV0Sg",
        "outputId": "349eb84d-12bc-4541-9d16-e93048d562d8"
      },
      "execution_count": null,
      "outputs": [
        {
          "output_type": "execute_result",
          "data": {
            "text/plain": [
              "np.float64(66.6496538943384)"
            ]
          },
          "metadata": {},
          "execution_count": 26
        }
      ]
    },
    {
      "cell_type": "code",
      "source": [
        "mean=np.sum(BMIofHighIncome)/len(BMIofHighIncome)\n",
        "variance_bmi_high_inc=np.sum((BMIofHighIncome-mean)**2)/len(BMIofHighIncome)\n",
        "variance_bmi_high_inc"
      ],
      "metadata": {
        "colab": {
          "base_uri": "https://localhost:8080/"
        },
        "id": "EBDHnAlxWbZZ",
        "outputId": "00c23797-030f-4b5a-fe5b-838853cfd63c"
      },
      "execution_count": null,
      "outputs": [
        {
          "output_type": "execute_result",
          "data": {
            "text/plain": [
              "np.float64(34.86457316522133)"
            ]
          },
          "metadata": {},
          "execution_count": 27
        }
      ]
    },
    {
      "cell_type": "markdown",
      "source": [
        "---"
      ],
      "metadata": {
        "id": "vaLsKUsGWY29"
      }
    },
    {
      "cell_type": "markdown",
      "metadata": {
        "id": "1Fec4OS6wPX_"
      },
      "source": [
        "- b. The next moment, after the mean and variance is the skewness of a distribution. It is computed by $$\\tilde{\\mu}_3 = E\\Big[\\Big(\\frac{X-\\mu}{\\sigma}\\Big)^3 \\Big]$$\n",
        "can you compute this?"
      ]
    },
    {
      "cell_type": "markdown",
      "source": [
        "---"
      ],
      "metadata": {
        "id": "oJUfABKMWxO1"
      }
    },
    {
      "cell_type": "code",
      "execution_count": null,
      "metadata": {
        "id": "mgJha2bewPX_",
        "colab": {
          "base_uri": "https://localhost:8080/"
        },
        "outputId": "489b9fe0-c20e-443b-fd7f-9e10fdde61e2"
      },
      "outputs": [
        {
          "output_type": "execute_result",
          "data": {
            "text/plain": [
              "np.float64(2.520959246290246)"
            ]
          },
          "metadata": {},
          "execution_count": 28
        }
      ],
      "source": [
        "mean=np.sum(BMIofHighIncome)/len(BMIofHighIncome)\n",
        "skewness_bmi_high_inc=[]\n",
        "std_high=np.sqrt(variance_bmi_high_inc)\n",
        "for i in range(len(BMIofHighIncome)):\n",
        "  skewness_bmi_high_value=((BMIofHighIncome[i]-mean)/(std_high))**3\n",
        "  skewness_bmi_high_inc.append(skewness_bmi_high_value)\n",
        "skewness_high=sum(skewness_bmi_high_inc)/len(skewness_bmi_high_inc)\n",
        "skewness_high"
      ]
    },
    {
      "cell_type": "code",
      "source": [
        "from scipy import stats\n",
        "skewness_bmi_low_inc = stats.skew(BMIofHighIncome)\n",
        "skewness_bmi_low_inc"
      ],
      "metadata": {
        "colab": {
          "base_uri": "https://localhost:8080/"
        },
        "id": "AnRXZ7X5eJ4U",
        "outputId": "744d8a70-47fa-4d1e-ef12-97c593062363"
      },
      "execution_count": null,
      "outputs": [
        {
          "output_type": "execute_result",
          "data": {
            "text/plain": [
              "np.float64(2.5209592462885038)"
            ]
          },
          "metadata": {},
          "execution_count": 29
        }
      ]
    },
    {
      "cell_type": "code",
      "source": [],
      "metadata": {
        "id": "Bug3Rr6KXNQ2"
      },
      "execution_count": null,
      "outputs": []
    },
    {
      "cell_type": "code",
      "source": [
        "mean=np.sum(BMIofLowIncome)/len(BMIofLowIncome)\n",
        "skewness_bmi_low_inc=[]\n",
        "std_low=np.sqrt(variance_bmi_low_inc)\n",
        "for i in range(len(BMIofLowIncome)):\n",
        "  skewness_bmi_low_value=((BMIofLowIncome[i]-mean)/(std_low))**3\n",
        "  skewness_bmi_low_inc.append(skewness_bmi_low_value)\n",
        "skewness_low=sum(skewness_bmi_low_inc)/len(skewness_bmi_low_inc)\n",
        "skewness_low"
      ],
      "metadata": {
        "colab": {
          "base_uri": "https://localhost:8080/"
        },
        "id": "1PuK_YfVcJhC",
        "outputId": "466d1626-7122-419f-de80-4605a5fdfc35"
      },
      "execution_count": null,
      "outputs": [
        {
          "output_type": "execute_result",
          "data": {
            "text/plain": [
              "np.float64(1.7121432646160009)"
            ]
          },
          "metadata": {},
          "execution_count": 30
        }
      ]
    },
    {
      "cell_type": "markdown",
      "source": [
        "---"
      ],
      "metadata": {
        "id": "PcjqVoJoWyA2"
      }
    },
    {
      "cell_type": "code",
      "source": [
        "from scipy import stats\n",
        "skewness_bmi_low_inc = stats.skew(BMIofLowIncome)\n",
        "skewness_bmi_low_inc"
      ],
      "metadata": {
        "colab": {
          "base_uri": "https://localhost:8080/"
        },
        "id": "z172nPFsdoxg",
        "outputId": "e3ea1e68-18db-4f0d-f7e0-f06ad11c1374"
      },
      "execution_count": null,
      "outputs": [
        {
          "output_type": "execute_result",
          "data": {
            "text/plain": [
              "np.float64(1.7121432646160626)"
            ]
          },
          "metadata": {},
          "execution_count": 31
        }
      ]
    },
    {
      "cell_type": "markdown",
      "metadata": {
        "id": "wgHVkqDJwPYA"
      },
      "source": [
        "# Naive Bayes\n",
        "\n",
        "The health centre wants to do a blood test on those most at risk of developing diabetes. e.g. if the probability of having diabetes is more than 20\\%.\n",
        "\n",
        "A new patient arrives, who has a BMI of 40. What's the chance that they have diabetes?\n",
        "\n",
        "$$P(Diabetes = true \\; |\\; BMI = 40)$$\n",
        "\n",
        "Remember that the dataframe has a 'Diabetes_012' column (0=no diabetes, 1=pre-diabetic, 2=diabetic). So the proportion of the dataset who are diabetic is:"
      ]
    },
    {
      "cell_type": "code",
      "execution_count": null,
      "metadata": {
        "id": "_89ragEuwPYB",
        "colab": {
          "base_uri": "https://localhost:8080/"
        },
        "outputId": "a76c2b85-ae81-4fb0-fe45-8a9d6b6cb6b6"
      },
      "outputs": [
        {
          "output_type": "execute_result",
          "data": {
            "text/plain": [
              "np.float64(0.13933301797540207)"
            ]
          },
          "metadata": {},
          "execution_count": 32
        }
      ],
      "source": [
        "np.mean(df['Diabetes_012']==2)"
      ]
    },
    {
      "cell_type": "markdown",
      "metadata": {
        "id": "GmgovwrjwPYB"
      },
      "source": [
        "Note that the dataset is **not a representative sample**, so really we wouldn't necessarily want to use it for doing this sort of inference, but we'll continue, as an illustration!\n",
        "\n",
        "For our patient we can just look at the proportion of those with BMI=40 who have diabetes:"
      ]
    },
    {
      "cell_type": "code",
      "execution_count": null,
      "metadata": {
        "id": "qRENA7mywPYB",
        "colab": {
          "base_uri": "https://localhost:8080/"
        },
        "outputId": "36b9c917-24f8-4216-8109-d6cb1698c2a0"
      },
      "outputs": [
        {
          "output_type": "execute_result",
          "data": {
            "text/plain": [
              "np.float64(0.32063773250664307)"
            ]
          },
          "metadata": {},
          "execution_count": 33
        }
      ],
      "source": [
        "#Here I create a temporary dataframe with those of a BMI of 40 using `df['BMI']==40]`.\n",
        "#I then test each value of the Diabetes_012 column, and find the average number that have\n",
        "#this equal to 2. This givens me the proportion.\n",
        "\n",
        "dfBMI40 = df[df['BMI']==40] #make a new dataframe with just those with a BMI of 40.\n",
        "np.mean(dfBMI40['Diabetes_012']==2) #find the proportion of this subset with diabetes"
      ]
    },
    {
      "cell_type": "markdown",
      "metadata": {
        "id": "CUf0LfRQwPYC"
      },
      "source": [
        "So they fall into our 'high risk' category, as 32% of those with a BMI=40 in the dataset have diabetes."
      ]
    },
    {
      "cell_type": "code",
      "execution_count": null,
      "metadata": {
        "id": "Uv-YLKLxwPYC",
        "colab": {
          "base_uri": "https://localhost:8080/"
        },
        "outputId": "dcdd5cd7-2ffc-4160-d69f-cc9921b31888"
      },
      "outputs": [
        {
          "output_type": "execute_result",
          "data": {
            "text/plain": [
              "array([21., 27., 32., 37., 42., 47., 52., 57., 62., 67., 72., 77., 82.])"
            ]
          },
          "metadata": {},
          "execution_count": 34
        }
      ],
      "source": [
        "#note that, due to the categorical nature of the age the ages are just at these\n",
        "#discrete points:\n",
        "np.unique(df['Age'])"
      ]
    },
    {
      "cell_type": "markdown",
      "metadata": {
        "id": "7WjwOFBlwPYC"
      },
      "source": [
        "## The curse of dimensionality\n",
        "\n",
        "Supposing we also know they are in the age 21 category, and smoke...\n",
        "\n",
        "We can again make a dataframe containing just those who:\n",
        "- have a BMI = 40\n",
        "- are in the age = 21 category\n",
        "- and smoke,"
      ]
    },
    {
      "cell_type": "code",
      "execution_count": null,
      "metadata": {
        "id": "aTmeRKqjwPYD",
        "colab": {
          "base_uri": "https://localhost:8080/"
        },
        "outputId": "b9e1df07-7f37-4b07-997f-2a0720de5d50"
      },
      "outputs": [
        {
          "output_type": "execute_result",
          "data": {
            "text/plain": [
              "np.float64(0.0)"
            ]
          },
          "metadata": {},
          "execution_count": 35
        }
      ],
      "source": [
        "#Here I create a temporary dataframe containing those who have a BMI of 40, are in the\n",
        "#Age=21 category AND smoke, using `df[(df['BMI']==40) & (df['Age']==21) & (df['Smoker']==1)]`\n",
        "dfBMI40Age21Smoke = df[(df['BMI']==40) & (df['Age']==21) & (df['Smoker']==1)]\n",
        "np.mean(dfBMI40Age21Smoke['Diabetes_012']==2)"
      ]
    },
    {
      "cell_type": "markdown",
      "metadata": {
        "id": "DpR3W_F6wPYE"
      },
      "source": [
        "Great, 0% chance!!\n",
        "But there's something a bit wrong about this analyis..."
      ]
    },
    {
      "cell_type": "code",
      "execution_count": null,
      "metadata": {
        "id": "_ga7McPrwPYF",
        "colab": {
          "base_uri": "https://localhost:8080/"
        },
        "outputId": "ab0a7a9a-65e2-4f80-c474-647a512e7022"
      },
      "outputs": [
        {
          "output_type": "execute_result",
          "data": {
            "text/plain": [
              "6"
            ]
          },
          "metadata": {},
          "execution_count": 36
        }
      ],
      "source": [
        "len(dfBMI40Age21Smoke)"
      ]
    },
    {
      "cell_type": "markdown",
      "metadata": {
        "id": "yvGbTMTvwPYG"
      },
      "source": [
        "There are only 6 people in the dataset with a BMI of 40, who are in the 21 years old category, who smoke.\n",
        "\n",
        "We can display this whole set:"
      ]
    },
    {
      "cell_type": "code",
      "execution_count": null,
      "metadata": {
        "id": "_HdHrT0uwPYG",
        "colab": {
          "base_uri": "https://localhost:8080/",
          "height": 304
        },
        "outputId": "cc009609-9801-44d9-f2f0-7216489a29ca"
      },
      "outputs": [
        {
          "output_type": "execute_result",
          "data": {
            "text/plain": [
              "        Unnamed: 0  Diabetes_012  HighBP  HighChol  CholCheck   BMI  Smoker  \\\n",
              "58186        58186           0.0     0.0       0.0        1.0  40.0     1.0   \n",
              "109921      109921           0.0     0.0       0.0        1.0  40.0     1.0   \n",
              "126529      126529           0.0     1.0       1.0        1.0  40.0     1.0   \n",
              "240700      240700           0.0     1.0       0.0        1.0  40.0     1.0   \n",
              "241084      241084           0.0     1.0       0.0        1.0  40.0     1.0   \n",
              "252523      252523           0.0     0.0       1.0        1.0  40.0     1.0   \n",
              "\n",
              "        Stroke  HeartDiseaseorAttack  PhysActivity  ...  AnyHealthcare  \\\n",
              "58186      0.0                   0.0           1.0  ...            1.0   \n",
              "109921     0.0                   0.0           1.0  ...            1.0   \n",
              "126529     0.0                   0.0           1.0  ...            1.0   \n",
              "240700     0.0                   0.0           1.0  ...            1.0   \n",
              "241084     0.0                   0.0           1.0  ...            1.0   \n",
              "252523     0.0                   0.0           1.0  ...            1.0   \n",
              "\n",
              "        NoDocbcCost  GenHlth  MentHlth  PhysHlth  DiffWalk  Sex   Age  \\\n",
              "58186           0.0      2.0      11.0       0.0       0.0  1.0  21.0   \n",
              "109921          0.0      1.0       0.0       0.0       0.0  0.0  21.0   \n",
              "126529          0.0      3.0      20.0       0.0       0.0  1.0  21.0   \n",
              "240700          0.0      2.0      30.0       0.0       0.0  0.0  21.0   \n",
              "241084          0.0      3.0       2.0       0.0       0.0  1.0  21.0   \n",
              "252523          0.0      5.0       0.0      20.0       0.0  0.0  21.0   \n",
              "\n",
              "        Education  Income  \n",
              "58186         4.0     8.0  \n",
              "109921        5.0     8.0  \n",
              "126529        5.0     7.0  \n",
              "240700        4.0     2.0  \n",
              "241084        4.0     3.0  \n",
              "252523        5.0     2.0  \n",
              "\n",
              "[6 rows x 23 columns]"
            ],
            "text/html": [
              "\n",
              "  <div id=\"df-bc2add31-5459-4820-bca2-3e7702f24e12\" class=\"colab-df-container\">\n",
              "    <div>\n",
              "<style scoped>\n",
              "    .dataframe tbody tr th:only-of-type {\n",
              "        vertical-align: middle;\n",
              "    }\n",
              "\n",
              "    .dataframe tbody tr th {\n",
              "        vertical-align: top;\n",
              "    }\n",
              "\n",
              "    .dataframe thead th {\n",
              "        text-align: right;\n",
              "    }\n",
              "</style>\n",
              "<table border=\"1\" class=\"dataframe\">\n",
              "  <thead>\n",
              "    <tr style=\"text-align: right;\">\n",
              "      <th></th>\n",
              "      <th>Unnamed: 0</th>\n",
              "      <th>Diabetes_012</th>\n",
              "      <th>HighBP</th>\n",
              "      <th>HighChol</th>\n",
              "      <th>CholCheck</th>\n",
              "      <th>BMI</th>\n",
              "      <th>Smoker</th>\n",
              "      <th>Stroke</th>\n",
              "      <th>HeartDiseaseorAttack</th>\n",
              "      <th>PhysActivity</th>\n",
              "      <th>...</th>\n",
              "      <th>AnyHealthcare</th>\n",
              "      <th>NoDocbcCost</th>\n",
              "      <th>GenHlth</th>\n",
              "      <th>MentHlth</th>\n",
              "      <th>PhysHlth</th>\n",
              "      <th>DiffWalk</th>\n",
              "      <th>Sex</th>\n",
              "      <th>Age</th>\n",
              "      <th>Education</th>\n",
              "      <th>Income</th>\n",
              "    </tr>\n",
              "  </thead>\n",
              "  <tbody>\n",
              "    <tr>\n",
              "      <th>58186</th>\n",
              "      <td>58186</td>\n",
              "      <td>0.0</td>\n",
              "      <td>0.0</td>\n",
              "      <td>0.0</td>\n",
              "      <td>1.0</td>\n",
              "      <td>40.0</td>\n",
              "      <td>1.0</td>\n",
              "      <td>0.0</td>\n",
              "      <td>0.0</td>\n",
              "      <td>1.0</td>\n",
              "      <td>...</td>\n",
              "      <td>1.0</td>\n",
              "      <td>0.0</td>\n",
              "      <td>2.0</td>\n",
              "      <td>11.0</td>\n",
              "      <td>0.0</td>\n",
              "      <td>0.0</td>\n",
              "      <td>1.0</td>\n",
              "      <td>21.0</td>\n",
              "      <td>4.0</td>\n",
              "      <td>8.0</td>\n",
              "    </tr>\n",
              "    <tr>\n",
              "      <th>109921</th>\n",
              "      <td>109921</td>\n",
              "      <td>0.0</td>\n",
              "      <td>0.0</td>\n",
              "      <td>0.0</td>\n",
              "      <td>1.0</td>\n",
              "      <td>40.0</td>\n",
              "      <td>1.0</td>\n",
              "      <td>0.0</td>\n",
              "      <td>0.0</td>\n",
              "      <td>1.0</td>\n",
              "      <td>...</td>\n",
              "      <td>1.0</td>\n",
              "      <td>0.0</td>\n",
              "      <td>1.0</td>\n",
              "      <td>0.0</td>\n",
              "      <td>0.0</td>\n",
              "      <td>0.0</td>\n",
              "      <td>0.0</td>\n",
              "      <td>21.0</td>\n",
              "      <td>5.0</td>\n",
              "      <td>8.0</td>\n",
              "    </tr>\n",
              "    <tr>\n",
              "      <th>126529</th>\n",
              "      <td>126529</td>\n",
              "      <td>0.0</td>\n",
              "      <td>1.0</td>\n",
              "      <td>1.0</td>\n",
              "      <td>1.0</td>\n",
              "      <td>40.0</td>\n",
              "      <td>1.0</td>\n",
              "      <td>0.0</td>\n",
              "      <td>0.0</td>\n",
              "      <td>1.0</td>\n",
              "      <td>...</td>\n",
              "      <td>1.0</td>\n",
              "      <td>0.0</td>\n",
              "      <td>3.0</td>\n",
              "      <td>20.0</td>\n",
              "      <td>0.0</td>\n",
              "      <td>0.0</td>\n",
              "      <td>1.0</td>\n",
              "      <td>21.0</td>\n",
              "      <td>5.0</td>\n",
              "      <td>7.0</td>\n",
              "    </tr>\n",
              "    <tr>\n",
              "      <th>240700</th>\n",
              "      <td>240700</td>\n",
              "      <td>0.0</td>\n",
              "      <td>1.0</td>\n",
              "      <td>0.0</td>\n",
              "      <td>1.0</td>\n",
              "      <td>40.0</td>\n",
              "      <td>1.0</td>\n",
              "      <td>0.0</td>\n",
              "      <td>0.0</td>\n",
              "      <td>1.0</td>\n",
              "      <td>...</td>\n",
              "      <td>1.0</td>\n",
              "      <td>0.0</td>\n",
              "      <td>2.0</td>\n",
              "      <td>30.0</td>\n",
              "      <td>0.0</td>\n",
              "      <td>0.0</td>\n",
              "      <td>0.0</td>\n",
              "      <td>21.0</td>\n",
              "      <td>4.0</td>\n",
              "      <td>2.0</td>\n",
              "    </tr>\n",
              "    <tr>\n",
              "      <th>241084</th>\n",
              "      <td>241084</td>\n",
              "      <td>0.0</td>\n",
              "      <td>1.0</td>\n",
              "      <td>0.0</td>\n",
              "      <td>1.0</td>\n",
              "      <td>40.0</td>\n",
              "      <td>1.0</td>\n",
              "      <td>0.0</td>\n",
              "      <td>0.0</td>\n",
              "      <td>1.0</td>\n",
              "      <td>...</td>\n",
              "      <td>1.0</td>\n",
              "      <td>0.0</td>\n",
              "      <td>3.0</td>\n",
              "      <td>2.0</td>\n",
              "      <td>0.0</td>\n",
              "      <td>0.0</td>\n",
              "      <td>1.0</td>\n",
              "      <td>21.0</td>\n",
              "      <td>4.0</td>\n",
              "      <td>3.0</td>\n",
              "    </tr>\n",
              "    <tr>\n",
              "      <th>252523</th>\n",
              "      <td>252523</td>\n",
              "      <td>0.0</td>\n",
              "      <td>0.0</td>\n",
              "      <td>1.0</td>\n",
              "      <td>1.0</td>\n",
              "      <td>40.0</td>\n",
              "      <td>1.0</td>\n",
              "      <td>0.0</td>\n",
              "      <td>0.0</td>\n",
              "      <td>1.0</td>\n",
              "      <td>...</td>\n",
              "      <td>1.0</td>\n",
              "      <td>0.0</td>\n",
              "      <td>5.0</td>\n",
              "      <td>0.0</td>\n",
              "      <td>20.0</td>\n",
              "      <td>0.0</td>\n",
              "      <td>0.0</td>\n",
              "      <td>21.0</td>\n",
              "      <td>5.0</td>\n",
              "      <td>2.0</td>\n",
              "    </tr>\n",
              "  </tbody>\n",
              "</table>\n",
              "<p>6 rows × 23 columns</p>\n",
              "</div>\n",
              "    <div class=\"colab-df-buttons\">\n",
              "\n",
              "  <div class=\"colab-df-container\">\n",
              "    <button class=\"colab-df-convert\" onclick=\"convertToInteractive('df-bc2add31-5459-4820-bca2-3e7702f24e12')\"\n",
              "            title=\"Convert this dataframe to an interactive table.\"\n",
              "            style=\"display:none;\">\n",
              "\n",
              "  <svg xmlns=\"http://www.w3.org/2000/svg\" height=\"24px\" viewBox=\"0 -960 960 960\">\n",
              "    <path d=\"M120-120v-720h720v720H120Zm60-500h600v-160H180v160Zm220 220h160v-160H400v160Zm0 220h160v-160H400v160ZM180-400h160v-160H180v160Zm440 0h160v-160H620v160ZM180-180h160v-160H180v160Zm440 0h160v-160H620v160Z\"/>\n",
              "  </svg>\n",
              "    </button>\n",
              "\n",
              "  <style>\n",
              "    .colab-df-container {\n",
              "      display:flex;\n",
              "      gap: 12px;\n",
              "    }\n",
              "\n",
              "    .colab-df-convert {\n",
              "      background-color: #E8F0FE;\n",
              "      border: none;\n",
              "      border-radius: 50%;\n",
              "      cursor: pointer;\n",
              "      display: none;\n",
              "      fill: #1967D2;\n",
              "      height: 32px;\n",
              "      padding: 0 0 0 0;\n",
              "      width: 32px;\n",
              "    }\n",
              "\n",
              "    .colab-df-convert:hover {\n",
              "      background-color: #E2EBFA;\n",
              "      box-shadow: 0px 1px 2px rgba(60, 64, 67, 0.3), 0px 1px 3px 1px rgba(60, 64, 67, 0.15);\n",
              "      fill: #174EA6;\n",
              "    }\n",
              "\n",
              "    .colab-df-buttons div {\n",
              "      margin-bottom: 4px;\n",
              "    }\n",
              "\n",
              "    [theme=dark] .colab-df-convert {\n",
              "      background-color: #3B4455;\n",
              "      fill: #D2E3FC;\n",
              "    }\n",
              "\n",
              "    [theme=dark] .colab-df-convert:hover {\n",
              "      background-color: #434B5C;\n",
              "      box-shadow: 0px 1px 3px 1px rgba(0, 0, 0, 0.15);\n",
              "      filter: drop-shadow(0px 1px 2px rgba(0, 0, 0, 0.3));\n",
              "      fill: #FFFFFF;\n",
              "    }\n",
              "  </style>\n",
              "\n",
              "    <script>\n",
              "      const buttonEl =\n",
              "        document.querySelector('#df-bc2add31-5459-4820-bca2-3e7702f24e12 button.colab-df-convert');\n",
              "      buttonEl.style.display =\n",
              "        google.colab.kernel.accessAllowed ? 'block' : 'none';\n",
              "\n",
              "      async function convertToInteractive(key) {\n",
              "        const element = document.querySelector('#df-bc2add31-5459-4820-bca2-3e7702f24e12');\n",
              "        const dataTable =\n",
              "          await google.colab.kernel.invokeFunction('convertToInteractive',\n",
              "                                                    [key], {});\n",
              "        if (!dataTable) return;\n",
              "\n",
              "        const docLinkHtml = 'Like what you see? Visit the ' +\n",
              "          '<a target=\"_blank\" href=https://colab.research.google.com/notebooks/data_table.ipynb>data table notebook</a>'\n",
              "          + ' to learn more about interactive tables.';\n",
              "        element.innerHTML = '';\n",
              "        dataTable['output_type'] = 'display_data';\n",
              "        await google.colab.output.renderOutput(dataTable, element);\n",
              "        const docLink = document.createElement('div');\n",
              "        docLink.innerHTML = docLinkHtml;\n",
              "        element.appendChild(docLink);\n",
              "      }\n",
              "    </script>\n",
              "  </div>\n",
              "\n",
              "\n",
              "    <div id=\"df-a61c94e3-0491-413b-998f-aeb1962af880\">\n",
              "      <button class=\"colab-df-quickchart\" onclick=\"quickchart('df-a61c94e3-0491-413b-998f-aeb1962af880')\"\n",
              "                title=\"Suggest charts\"\n",
              "                style=\"display:none;\">\n",
              "\n",
              "<svg xmlns=\"http://www.w3.org/2000/svg\" height=\"24px\"viewBox=\"0 0 24 24\"\n",
              "     width=\"24px\">\n",
              "    <g>\n",
              "        <path d=\"M19 3H5c-1.1 0-2 .9-2 2v14c0 1.1.9 2 2 2h14c1.1 0 2-.9 2-2V5c0-1.1-.9-2-2-2zM9 17H7v-7h2v7zm4 0h-2V7h2v10zm4 0h-2v-4h2v4z\"/>\n",
              "    </g>\n",
              "</svg>\n",
              "      </button>\n",
              "\n",
              "<style>\n",
              "  .colab-df-quickchart {\n",
              "      --bg-color: #E8F0FE;\n",
              "      --fill-color: #1967D2;\n",
              "      --hover-bg-color: #E2EBFA;\n",
              "      --hover-fill-color: #174EA6;\n",
              "      --disabled-fill-color: #AAA;\n",
              "      --disabled-bg-color: #DDD;\n",
              "  }\n",
              "\n",
              "  [theme=dark] .colab-df-quickchart {\n",
              "      --bg-color: #3B4455;\n",
              "      --fill-color: #D2E3FC;\n",
              "      --hover-bg-color: #434B5C;\n",
              "      --hover-fill-color: #FFFFFF;\n",
              "      --disabled-bg-color: #3B4455;\n",
              "      --disabled-fill-color: #666;\n",
              "  }\n",
              "\n",
              "  .colab-df-quickchart {\n",
              "    background-color: var(--bg-color);\n",
              "    border: none;\n",
              "    border-radius: 50%;\n",
              "    cursor: pointer;\n",
              "    display: none;\n",
              "    fill: var(--fill-color);\n",
              "    height: 32px;\n",
              "    padding: 0;\n",
              "    width: 32px;\n",
              "  }\n",
              "\n",
              "  .colab-df-quickchart:hover {\n",
              "    background-color: var(--hover-bg-color);\n",
              "    box-shadow: 0 1px 2px rgba(60, 64, 67, 0.3), 0 1px 3px 1px rgba(60, 64, 67, 0.15);\n",
              "    fill: var(--button-hover-fill-color);\n",
              "  }\n",
              "\n",
              "  .colab-df-quickchart-complete:disabled,\n",
              "  .colab-df-quickchart-complete:disabled:hover {\n",
              "    background-color: var(--disabled-bg-color);\n",
              "    fill: var(--disabled-fill-color);\n",
              "    box-shadow: none;\n",
              "  }\n",
              "\n",
              "  .colab-df-spinner {\n",
              "    border: 2px solid var(--fill-color);\n",
              "    border-color: transparent;\n",
              "    border-bottom-color: var(--fill-color);\n",
              "    animation:\n",
              "      spin 1s steps(1) infinite;\n",
              "  }\n",
              "\n",
              "  @keyframes spin {\n",
              "    0% {\n",
              "      border-color: transparent;\n",
              "      border-bottom-color: var(--fill-color);\n",
              "      border-left-color: var(--fill-color);\n",
              "    }\n",
              "    20% {\n",
              "      border-color: transparent;\n",
              "      border-left-color: var(--fill-color);\n",
              "      border-top-color: var(--fill-color);\n",
              "    }\n",
              "    30% {\n",
              "      border-color: transparent;\n",
              "      border-left-color: var(--fill-color);\n",
              "      border-top-color: var(--fill-color);\n",
              "      border-right-color: var(--fill-color);\n",
              "    }\n",
              "    40% {\n",
              "      border-color: transparent;\n",
              "      border-right-color: var(--fill-color);\n",
              "      border-top-color: var(--fill-color);\n",
              "    }\n",
              "    60% {\n",
              "      border-color: transparent;\n",
              "      border-right-color: var(--fill-color);\n",
              "    }\n",
              "    80% {\n",
              "      border-color: transparent;\n",
              "      border-right-color: var(--fill-color);\n",
              "      border-bottom-color: var(--fill-color);\n",
              "    }\n",
              "    90% {\n",
              "      border-color: transparent;\n",
              "      border-bottom-color: var(--fill-color);\n",
              "    }\n",
              "  }\n",
              "</style>\n",
              "\n",
              "      <script>\n",
              "        async function quickchart(key) {\n",
              "          const quickchartButtonEl =\n",
              "            document.querySelector('#' + key + ' button');\n",
              "          quickchartButtonEl.disabled = true;  // To prevent multiple clicks.\n",
              "          quickchartButtonEl.classList.add('colab-df-spinner');\n",
              "          try {\n",
              "            const charts = await google.colab.kernel.invokeFunction(\n",
              "                'suggestCharts', [key], {});\n",
              "          } catch (error) {\n",
              "            console.error('Error during call to suggestCharts:', error);\n",
              "          }\n",
              "          quickchartButtonEl.classList.remove('colab-df-spinner');\n",
              "          quickchartButtonEl.classList.add('colab-df-quickchart-complete');\n",
              "        }\n",
              "        (() => {\n",
              "          let quickchartButtonEl =\n",
              "            document.querySelector('#df-a61c94e3-0491-413b-998f-aeb1962af880 button');\n",
              "          quickchartButtonEl.style.display =\n",
              "            google.colab.kernel.accessAllowed ? 'block' : 'none';\n",
              "        })();\n",
              "      </script>\n",
              "    </div>\n",
              "\n",
              "  <div id=\"id_5ba099ee-8f73-4f61-af0e-bcf2e0d87d58\">\n",
              "    <style>\n",
              "      .colab-df-generate {\n",
              "        background-color: #E8F0FE;\n",
              "        border: none;\n",
              "        border-radius: 50%;\n",
              "        cursor: pointer;\n",
              "        display: none;\n",
              "        fill: #1967D2;\n",
              "        height: 32px;\n",
              "        padding: 0 0 0 0;\n",
              "        width: 32px;\n",
              "      }\n",
              "\n",
              "      .colab-df-generate:hover {\n",
              "        background-color: #E2EBFA;\n",
              "        box-shadow: 0px 1px 2px rgba(60, 64, 67, 0.3), 0px 1px 3px 1px rgba(60, 64, 67, 0.15);\n",
              "        fill: #174EA6;\n",
              "      }\n",
              "\n",
              "      [theme=dark] .colab-df-generate {\n",
              "        background-color: #3B4455;\n",
              "        fill: #D2E3FC;\n",
              "      }\n",
              "\n",
              "      [theme=dark] .colab-df-generate:hover {\n",
              "        background-color: #434B5C;\n",
              "        box-shadow: 0px 1px 3px 1px rgba(0, 0, 0, 0.15);\n",
              "        filter: drop-shadow(0px 1px 2px rgba(0, 0, 0, 0.3));\n",
              "        fill: #FFFFFF;\n",
              "      }\n",
              "    </style>\n",
              "    <button class=\"colab-df-generate\" onclick=\"generateWithVariable('dfBMI40Age21Smoke')\"\n",
              "            title=\"Generate code using this dataframe.\"\n",
              "            style=\"display:none;\">\n",
              "\n",
              "  <svg xmlns=\"http://www.w3.org/2000/svg\" height=\"24px\"viewBox=\"0 0 24 24\"\n",
              "       width=\"24px\">\n",
              "    <path d=\"M7,19H8.4L18.45,9,17,7.55,7,17.6ZM5,21V16.75L18.45,3.32a2,2,0,0,1,2.83,0l1.4,1.43a1.91,1.91,0,0,1,.58,1.4,1.91,1.91,0,0,1-.58,1.4L9.25,21ZM18.45,9,17,7.55Zm-12,3A5.31,5.31,0,0,0,4.9,8.1,5.31,5.31,0,0,0,1,6.5,5.31,5.31,0,0,0,4.9,4.9,5.31,5.31,0,0,0,6.5,1,5.31,5.31,0,0,0,8.1,4.9,5.31,5.31,0,0,0,12,6.5,5.46,5.46,0,0,0,6.5,12Z\"/>\n",
              "  </svg>\n",
              "    </button>\n",
              "    <script>\n",
              "      (() => {\n",
              "      const buttonEl =\n",
              "        document.querySelector('#id_5ba099ee-8f73-4f61-af0e-bcf2e0d87d58 button.colab-df-generate');\n",
              "      buttonEl.style.display =\n",
              "        google.colab.kernel.accessAllowed ? 'block' : 'none';\n",
              "\n",
              "      buttonEl.onclick = () => {\n",
              "        google.colab.notebook.generateWithVariable('dfBMI40Age21Smoke');\n",
              "      }\n",
              "      })();\n",
              "    </script>\n",
              "  </div>\n",
              "\n",
              "    </div>\n",
              "  </div>\n"
            ],
            "application/vnd.google.colaboratory.intrinsic+json": {
              "type": "dataframe",
              "variable_name": "dfBMI40Age21Smoke"
            }
          },
          "metadata": {},
          "execution_count": 37
        }
      ],
      "source": [
        "dfBMI40Age21Smoke"
      ]
    },
    {
      "cell_type": "markdown",
      "metadata": {
        "id": "UvGywVj9wPYH"
      },
      "source": [
        "### What are we assuming here?\n",
        "\n",
        "When we assumed that we can approximate the probability with the ratio of cases to the total number in that condition, we were assuming that the total number was very large, so we were approximating infinite numbers of samples,\n",
        "\n",
        "$$P(Y = y | Z) \\approx \\frac{n_{y|z}}{N_Z}$$\n",
        "\n",
        "Six is not a large enough sample."
      ]
    },
    {
      "cell_type": "markdown",
      "metadata": {
        "id": "8eUzwlQqwPYH"
      },
      "source": [
        "### Naive Bayes\n",
        "\n",
        "<mark>The Naive Bayes classifier is an approach for making this type of inference by assuming **conditional independence between the features** (given the class).</mark> We've already seen (with the fruit and veg above) that this assumption probably is invalid, but it can still give reasonable results.\n",
        "\n",
        "Let's think about this more carefully:\n",
        "\n",
        "We are interested in computing the probability of having diabetes (given some features about the person), i.e.:\n",
        "\n",
        "$P(D=true | x_1, x_2,...,x_n)$.\n",
        "\n",
        "Quoting from the [wikipedia article](https://en.wikipedia.org/wiki/Naive_Bayes_classifier)\n",
        "\n",
        "> The problem with the above formulation is that if the number of features n is large or if a feature can take on a large number of values, then basing such a model on probability tables is infeasible.\n",
        "\n",
        "We've seen this problem with the patient above. Only six rows (out of 253,680) in the database have the same features.\n",
        "\n",
        "### Rewriting with Bayes Rule\n",
        "\n",
        "We can write the above conditional distribution as:\n",
        "\n",
        "$$P(D | x_1, x_2,...,x_n) = \\frac{P(x_1, x_2,...,x_n | D) \\times P(D)}{P(x_1, x_2,...,x_n)}$$\n",
        "\n",
        "We can use the chain rule of probability, to see that we can write the likelihood term as:\n",
        "\n",
        "$$P(x_1, x_2,...,x_n | D) = P(x_1 | x_2,...,x_n, D) \\times P(x_2 | x_3,...,x_n, D) \\times \\;... \\times \\; P(x_{n-1} \\;|\\; x_n, D)$$\n",
        "\n",
        "It's not obvious to see why, so let's go through this step-by-step. We start with our likelihood term telling us the probability of having a BMI of 40, an age of 21 and smoking, given Diabetes = true (or false):\n",
        "\n",
        "$$P(B=40, A=21, S = true | D)$$\n",
        "\n",
        "We can write this using the product rule, as:\n",
        "\n",
        "$$P(B=40 | A=21, S = true, D) \\times P(A = 21, S = true | D)$$\n",
        "\n",
        "We can then apply the same reasoning to the second term (try this yourself).\n",
        "\n",
        "> It's probably worth stopping, writing this down on a bit of paper and thinking about it! This is quite a difficult step, and once you've understood it the rest will be fairly easy.\n",
        ">\n",
        ">  We are using:\n",
        "> $$P(A,B) = P(A|B)\\; P(B)$$\n",
        "> but there's an additional conditional, 'given C' on everything:\n",
        "> $$P(A,B|C) = P(A|B,C)\\; P(B|C)$$\n",
        "\n",
        "The result is that we can write our likelihood as a product of conditional probabilities:\n",
        "\n",
        "$$P(B=40, A=21, S = true | D) \\; \\\\= \\\\ P(B=40 | A=21, S = true, D) \\;\\;\\times\\;\\; P(A=21 | S = true, D) \\;\\;\\times\\;\\; P(S=true | D)$$\n",
        "\n",
        "\n",
        "### The Naive-bit of Naive Bayes\n",
        "\n",
        "> **Reminder: Condition independence.** If two random variables ($X,Y$) are conditionally independent, given a third ($Z$) it means that $P(X|Y,Z) = P(X|Z)$. I.e. (for a given value of Z) the probability of $X$ isn't influenced by the value of $Y$. It is written as $X \\perp \\!\\!\\! \\perp Y | Z$.\n",
        "\n",
        "Naive Bayes: We now make the (conditional) independence assumption in our expression above, that **all the features are conditionally independent (given the diabetes status, D)**.\n",
        "\n",
        "So if our naive-Bayes assumption holds, we can write that:\n",
        "\n",
        "$$P(B=40 \\; | \\; A=21, \\; S = true, \\; D) \\; =\\; P(B=40\\; |\\; D)$$\n",
        "\n",
        "and,\n",
        "\n",
        "$$P(A=21 | S = true, D) = P(A=21 | D)$$\n",
        "\n",
        "Substituting in:\n",
        "\n",
        "$$P(B=40, A=21, S = true | D) \\; =\\; P(B=40 | D) \\; P(A=21 | D) \\; P(S=true | D)$$\n",
        "\n",
        "Please note that this, in general, isn't true. We are saying it's true because we have assumed conditional independence, e.g. that $B \\perp \\!\\!\\! \\perp A | D$, etc."
      ]
    },
    {
      "cell_type": "markdown",
      "metadata": {
        "id": "25tkgwipwPYI"
      },
      "source": [
        "### Why is this useful?\n",
        "\n",
        "The number of people in the dataset who had a BMI=40, were age=21, and smoked was only 6. But lots of individuals had *each* of these characteristics, so we can use these separately:\n",
        "\n",
        "Note that Naive Bayes is often used to compute a ratio between two conditions, but here we'll compute the posterior.\n",
        "\n",
        "$$P(D = true | x_1, x_2,...,x_n) = \\frac{P(x_1, x_2,...,x_n | D = true) P(D = true)}{P(x_1, x_2,...,x_n)}$$\n",
        "\n",
        "To compute the demoninator we marginalise: I.e. we can compute $P(x_1, x_2,...,x_n,D=true)$ and $P(x_1, x_2,...,x_n,D=false)$ and add them up to get $P(x_1, x_2,...,x_n)$.\n",
        "\n",
        "We've already computed the former when we computed the numerator, as it is the joint probability:\n",
        "\n",
        "$$P(x_1, x_2,...,x_n, D = true) = P(x_1, x_2,...,x_n | D = true) P(D = true)$$\n",
        "\n",
        "so we just need to compute,\n",
        "\n",
        "$$P(x_1, x_2,...,x_n, D = false) = P(x_1, x_2,...,x_n | D = false) P(D = false).$$\n",
        "\n",
        "Once we find these, we can add them up:\n",
        "\n",
        "$$P(x_1, x_2,...,x_n) = P(x_1, x_2,...,x_n, D = true) + P(x_1, x_2,...,x_n, D = false)$$"
      ]
    },
    {
      "cell_type": "markdown",
      "metadata": {
        "id": "36BeTjjHwPYJ"
      },
      "source": [
        "### Putting it together...\n",
        "\n",
        "Applying the Naive Bayes (conditional independence assumption) and substituting in our features (to keep it readable I've hidden the values the RVs are equal to). So we assume:\n",
        "\n",
        "$P(B, A, S | D)\\;\\;\\; =\\; P(B | D)\\;\\;\\; P(A | D) \\;\\;\\; P(S | D)\\\\\n",
        "P(B, A, S | \\neg D)\\; =\\; P(B | \\neg D)\\; P(A | \\neg D) \\; P(S | \\neg D)$\n",
        "\n",
        "We can then use these to compute the denominator. Here we're using the above approximations to the likelihoods:\n",
        "\n",
        "$$P(B,A,S) = P(B, A, S | D) P(D) + P(B, A, S| \\neg D)P(\\neg D)$$\n",
        "\n",
        "and finally the posterior we're interested in: (remember that we are now going to be using our approximations, based on our assumptions about independence for these terms).\n",
        "\n",
        "$$P(D | B, A, S) = \\frac{P(B, A, S|D)\\;P(D)}{P(B, A, S)}$$\n"
      ]
    },
    {
      "cell_type": "code",
      "execution_count": null,
      "metadata": {
        "id": "JPRkMB6PwPYJ"
      },
      "outputs": [],
      "source": [
        "#we create two dataframes, one of those with diabetes, and one with those without,\n",
        "dfDiabetes = df[df['Diabetes_012']==2]\n",
        "dfnotDiabetes = df[df['Diabetes_012']<2]\n",
        "\n",
        "PBMI40_givenDiabetesTrue = np.mean(dfDiabetes['BMI']==40)\n",
        "PBMI40_givenDiabetesFalse = np.mean(dfnotDiabetes['BMI']==40)\n",
        "\n",
        "PAge21_givenDiabetesTrue = np.mean(dfDiabetes['Age']==21)\n",
        "PAge21_givenDiabetesFalse = np.mean(dfnotDiabetes['Age']==21)\n",
        "\n",
        "PSmoking_givenDiabetesTrue = np.mean(dfDiabetes['Smoker']==1)\n",
        "PSmoking_givenDiabetesFalse = np.mean(dfnotDiabetes['Smoker']==1)\n",
        "\n",
        "PDiabetesTrue = np.mean(df['Diabetes_012']==2)\n",
        "PDiabetesFalse = np.mean(df['Diabetes_012']<2)"
      ]
    },
    {
      "cell_type": "code",
      "execution_count": null,
      "metadata": {
        "id": "Pe7zekiNwPYK",
        "colab": {
          "base_uri": "https://localhost:8080/"
        },
        "outputId": "188f459e-5dc1-4d11-edce-0b3230f9592e"
      },
      "outputs": [
        {
          "output_type": "stream",
          "name": "stdout",
          "text": [
            "Probaility of diabetes, given BMI=40, Age=21 and Smoker = 4.6 %\n"
          ]
        }
      ],
      "source": [
        "#P(BMI=40,Age=21,Smoking=true | Diabetes=true)\n",
        "PallGivenDiabetesTrue = (PBMI40_givenDiabetesTrue * PAge21_givenDiabetesTrue * PSmoking_givenDiabetesTrue * PDiabetesTrue)\n",
        "#P(BMI=40,Age=21,Smoking=true | Diabetes=false)\n",
        "PallGivenDiabetesFalse = (PBMI40_givenDiabetesFalse * PAge21_givenDiabetesFalse * PSmoking_givenDiabetesFalse * PDiabetesFalse)\n",
        "\n",
        "print(\"Probaility of diabetes, given BMI=40, Age=21 and Smoker = %0.1f %%\" % (100*(PallGivenDiabetesTrue) / (PallGivenDiabetesTrue + PallGivenDiabetesFalse)))"
      ]
    },
    {
      "cell_type": "markdown",
      "metadata": {
        "id": "PNCuQCjawPYK"
      },
      "source": [
        "### Exercise:\n",
        "\n",
        "- a. What's the probability they have diabetes if they are 62, not a smoker and have a BMI of 20?\n",
        "- b. What's the probability they are over 50 if they have a BMI of 20 and have diabetes and don't smoke? Use both Naive Bayes and compare to the answer computed with the full conditional distribution (without the independence assumption)."
      ]
    },
    {
      "cell_type": "markdown",
      "source": [
        "---"
      ],
      "metadata": {
        "id": "p1ke_BP4mKGt"
      }
    },
    {
      "cell_type": "code",
      "source": [
        "df['Smoker'].unique()"
      ],
      "metadata": {
        "colab": {
          "base_uri": "https://localhost:8080/"
        },
        "id": "eGnmMfwXfxKf",
        "outputId": "2978e212-9de1-4c44-fc3d-35dee99b85cd"
      },
      "execution_count": null,
      "outputs": [
        {
          "output_type": "execute_result",
          "data": {
            "text/plain": [
              "array([1., 0.])"
            ]
          },
          "metadata": {},
          "execution_count": 40
        }
      ]
    },
    {
      "cell_type": "code",
      "source": [
        "p_df_diabetes=len(df[df['Diabetes_012']==2])/len(df)\n",
        "p_df_diabetes_no=len(df[df['Diabetes_012']<2])/len(df)"
      ],
      "metadata": {
        "id": "gRM6QCITDZyF"
      },
      "execution_count": null,
      "outputs": []
    },
    {
      "cell_type": "code",
      "source": [
        "#a\n",
        "df_diabetes=df[df['Diabetes_012']==2]\n",
        "df_diabetes_no=df[df['Diabetes_012']<2]\n",
        "#probality of diabetes\n",
        "p_df_diabetes=len(df[df['Diabetes_012']==2])/len(df)\n",
        "p_df_diabetes_no=len(df[df['Diabetes_012']<2])/len(df)\n",
        "#probality of diabetes with bmi of 20 and greater than 20\n",
        "df_diabetes_bmi_20=np.mean([df_diabetes['BMI']==20])\n",
        "df_diabetes_bmi_20_no=np.mean([df_diabetes_no['BMI']>20])\n",
        "#probality of diabetes with age of 62 and greater than 62\n",
        "df_diabetes_age_62=np.mean([df_diabetes['Age']==62])\n",
        "df_diabetes_age_62_no=np.mean([df_diabetes_no['Age']>62])\n",
        "#probality of diabetes with smoker and non smoker\n",
        "df_diabetes_non_smoke=np.mean([df_diabetes['Smoker']==0])\n",
        "df_diabetes_non_smoke_no=np.mean([df_diabetes_no['Smoker']==1])\n",
        "df_diabetes__age_bmi_non_smoke=(df_diabetes_age_62*df_diabetes_bmi_20*df_diabetes_non_smoke)\n",
        "df_diabetes_age_bmi_non_smoke_no=(df_diabetes_age_62_no*df_diabetes_bmi_20_no*df_diabetes_non_smoke_no)\n",
        "#probality of all features\n",
        "df_p_features=(df_diabetes__age_bmi_non_smoke*p_df_diabetes+df_diabetes_age_bmi_non_smoke_no*p_df_diabetes_no)\n",
        "df_conditional=((p_df_diabetes_no*df_diabetes_non_smoke)*p_df_diabetes/\n",
        "               ((df_p_features)))\n",
        "#naive bayes\n",
        "print(df_conditional)\n",
        "\n",
        "dfBMI20_Age62_non_smoker=((df_diabetes[df_diabetes['Age']==62])).loc[(df_diabetes['Smoker']==0)&(df['BMI']==20)]\n",
        "dfBMI20_Age62_smoker=(df[df['Age']==62]).loc[(df['Smoker']==1)&(df['BMI']==20)]\n",
        "# dfBMI20_Age62_non_smoker\n",
        "# dfBMI20_Age62_smoker\n",
        "\n",
        "#np.mean(dfBMI20_Age62_non_smoker['Diabetes_012']==2)"
      ],
      "metadata": {
        "colab": {
          "base_uri": "https://localhost:8080/"
        },
        "id": "w6SmN4b9f7cJ",
        "outputId": "03a75fed-26c3-40a6-dc9a-e95286ec123a"
      },
      "execution_count": null,
      "outputs": [
        {
          "output_type": "stream",
          "name": "stdout",
          "text": [
            "0.5103430452223446\n"
          ]
        }
      ]
    },
    {
      "cell_type": "code",
      "source": [],
      "metadata": {
        "id": "dD7kD9uyimMz"
      },
      "execution_count": null,
      "outputs": []
    },
    {
      "cell_type": "code",
      "source": [
        "dfAgeover50=df[df['Age']>50]\n",
        "dfAgelower50=df[df['Age']<=50]\n",
        "PBMi20_givenageover50=np.mean(dfAgeover50[dfAgeover50['BMI']==20])\n",
        "pbmi20_givenagelower50=np.mean(dfAgelower50[dfAgelower50['BMI']==20])\n",
        "\n",
        "Pdiabetestrue_given_ageover50=np.mean(dfAgeover50['Diabetes_012']==2)\n",
        "Pdiabetesfalse_given_agelower50=np.mean(dfAgelower50['Diabetes_012']==2)"
      ],
      "metadata": {
        "id": "VRhbwp8N0VIl"
      },
      "execution_count": null,
      "outputs": []
    },
    {
      "cell_type": "code",
      "execution_count": null,
      "metadata": {
        "id": "mM2iJDAqwPYL",
        "colab": {
          "base_uri": "https://localhost:8080/",
          "height": 216
        },
        "outputId": "4aaf7d63-e2f5-4ed0-f6c9-a8e9631e94ef"
      },
      "outputs": [
        {
          "output_type": "error",
          "ename": "NameError",
          "evalue": "name 'df_diabetes_age_50_no' is not defined",
          "traceback": [
            "\u001b[0;31m---------------------------------------------------------------------------\u001b[0m",
            "\u001b[0;31mNameError\u001b[0m                                 Traceback (most recent call last)",
            "\u001b[0;32m/tmp/ipython-input-3457590164.py\u001b[0m in \u001b[0;36m<cell line: 0>\u001b[0;34m()\u001b[0m\n\u001b[1;32m     16\u001b[0m \u001b[0;31m#df_diabetes_non_smoke_no=np.mean([df_diabetes_no['Smoker']==1])\u001b[0m\u001b[0;34m\u001b[0m\u001b[0;34m\u001b[0m\u001b[0m\n\u001b[1;32m     17\u001b[0m \u001b[0mdf_diabetes__age_bmi_non_smoke\u001b[0m\u001b[0;34m=\u001b[0m\u001b[0;34m(\u001b[0m\u001b[0mdf_diabetes_age_50\u001b[0m\u001b[0;34m*\u001b[0m\u001b[0mdf_diabetes_bmi_20\u001b[0m\u001b[0;34m*\u001b[0m\u001b[0mdf_diabetes_non_smoke\u001b[0m\u001b[0;34m)\u001b[0m\u001b[0;34m\u001b[0m\u001b[0;34m\u001b[0m\u001b[0m\n\u001b[0;32m---> 18\u001b[0;31m \u001b[0mdf_diabetes_age_bmi_non_smoke_no\u001b[0m\u001b[0;34m=\u001b[0m\u001b[0;34m(\u001b[0m\u001b[0mdf_diabetes_age_50_no\u001b[0m\u001b[0;34m*\u001b[0m\u001b[0mdf_diabetes_bmi_20_no\u001b[0m\u001b[0;34m*\u001b[0m\u001b[0mdf_diabetes_non_smoke_no\u001b[0m\u001b[0;34m)\u001b[0m\u001b[0;34m\u001b[0m\u001b[0;34m\u001b[0m\u001b[0m\n\u001b[0m\u001b[1;32m     19\u001b[0m \u001b[0;31m#probality of all features\u001b[0m\u001b[0;34m\u001b[0m\u001b[0;34m\u001b[0m\u001b[0m\n\u001b[1;32m     20\u001b[0m \u001b[0;31m#p(a/b) = p(a)*P(b/a)/p(b)\u001b[0m\u001b[0;34m\u001b[0m\u001b[0;34m\u001b[0m\u001b[0m\n",
            "\u001b[0;31mNameError\u001b[0m: name 'df_diabetes_age_50_no' is not defined"
          ]
        }
      ],
      "source": [
        "#Answers here.\n",
        "#b\n",
        "df_diabetes=df[df['Diabetes_012']==2]\n",
        "df_diabetes_no=df[df['Diabetes_012']<2]\n",
        "#probality of diabetes\n",
        "p_df_diabetes=len(df[df['Diabetes_012']==2])/len(df)\n",
        "p_df_diabetes_no=len(df[df['Diabetes_012']<2])/len(df)\n",
        "#probality of diabetes with bmi of 20 and greater than 20\n",
        "df_diabetes_bmi_20=np.mean([df_diabetes['BMI']==20])\n",
        "df_diabetes_bmi_20_no=np.mean([df_diabetes_no['BMI']>20])\n",
        "#probality of diabetes with age of 50 and greater than 50\n",
        "df_diabetes_age_50=np.mean([df_diabetes['Age']>50])\n",
        "#df_diabetes_age_50_no=np.mean([df_diabetes_no['Age']<=50])\n",
        "#probality of diabetes with smoker and non smoker\n",
        "df_diabetes_non_smoke=np.mean([df_diabetes['Smoker']==0])\n",
        "#df_diabetes_non_smoke_no=np.mean([df_diabetes_no['Smoker']==1])\n",
        "df_diabetes__age_bmi_non_smoke=(df_diabetes_age_50*df_diabetes_bmi_20*df_diabetes_non_smoke)\n",
        "df_diabetes_age_bmi_non_smoke_no=(df_diabetes_age_50_no*df_diabetes_bmi_20_no*df_diabetes_non_smoke_no)\n",
        "#probality of all features\n",
        "#p(a/b) = p(a)*P(b/a)/p(b)\n",
        "df_p_features=(df_diabetes__age_bmi_non_smoke*p_df_diabetes+df_diabetes_age_bmi_non_smoke_no*p_df_diabetes_no)\n",
        "df_conditional=((p_df_diabetes_no*df_diabetes_non_smoke)*p_df_diabetes/\n",
        "               ((df_p_features)))\n",
        "#naive bayes\n",
        "print(df_conditional)\n",
        "\n",
        "dfBMI20_Age50_non_smoker=((df_diabetes[df_diabetes['Age']==50])).loc[(df_diabetes['Smoker']==0)&(df['BMI']==20)]\n",
        "dfBMI20_Age50_smoker=(df[df['Age']==50]).loc[(df['Smoker']==1)&(df['BMI']==20)]\n",
        "dfBMI20_Age50_non_smoker\n",
        "dfBMI20_Age50_smoker\n",
        "\n",
        "#np.mean(dfBMI20_Age62_non_smoker['Diabetes_012']==2)"
      ]
    },
    {
      "cell_type": "code",
      "source": [
        "#Answers here.\n",
        "#a\n",
        "df_diabetes=df[df['Diabetes_012']==2]\n",
        "df_diabetes_no=df[df['Diabetes_012']<2]\n",
        "#probality of diabetes\n",
        "p_df_diabetes=len(df[df['Diabetes_012']==2])/len(df)\n",
        "p_df_diabetes_no=len(df[df['Diabetes_012']<2])/len(df)\n",
        "#probality of diabetes with bmi of 20 and greater than 20\n",
        "df_diabetes_bmi_20=np.mean([df_diabetes['BMI']==20])\n",
        "df_diabetes_bmi_20_no=np.mean([df_diabetes_no['BMI'] == 20])\n",
        "#probality of diabetes with age of 50 and greater than 50\n",
        "df_diabetes_age_50=np.mean([df_diabetes['Age'] == 62])\n",
        "df_diabetes_age_50_no=np.mean([df_diabetes_no['Age'] == 62])\n",
        "#probality of diabetes with smoker and non smoker\n",
        "df_diabetes_non_smoke=np.mean([df_diabetes['Smoker']==0])\n",
        "df_diabetes_non_smoke_no=np.mean([df_diabetes_no['Smoker']==0])\n",
        "df_diabetes__age_bmi_non_smoke=(df_diabetes_age_50*df_diabetes_bmi_20*df_diabetes_non_smoke)\n",
        "df_diabetes_age_bmi_non_smoke_no=(df_diabetes_age_50_no*df_diabetes_bmi_20_no*df_diabetes_non_smoke_no)\n",
        "#probality of all features\n",
        "#p(a/b) = p(a)*P(b/a)/p(b)\n",
        "\n",
        "df_p_features=(df_diabetes__age_bmi_non_smoke*p_df_diabetes+df_diabetes_age_bmi_non_smoke_no*p_df_diabetes_no)\n",
        "df_conditional = ((df_diabetes__age_bmi_non_smoke) * p_df_diabetes) / (df_p_features)\n",
        "\n",
        "#a\n",
        "#(diabetes | age = 62, smoke = false, bmi = 20)\n",
        "#b\n",
        "#(age > 50 | bmi = 20, diabetes = true, smoke = false)\n",
        "#df_conditional=((p_df_diabetes_no*df_diabetes_non_smoke)*p_df_diabetes/ ((df_p_features)))\n",
        "\n",
        "#feature = p(bmi=20,smoke = false, age > 50 | diabetes)*p(diabetes)+ p(bmi=20,smoke = false, age > 50 | no_diabetes)*p(no_diabetes)\n",
        "#naive bayes\n",
        "print(df_conditional * 100)\n",
        "\n",
        "# dfBMI20_Age50_non_smoker=((df_diabetes[df_diabetes['Age']==50])).loc[(df_diabetes['Smoker']==0)&(df['BMI']==20)]\n",
        "# dfBMI20_Age50_smoker=(df[df['Age']==50]).loc[(df['Smoker']==1)&(df['BMI']==20)]\n",
        "# dfBMI20_Age50_non_smoker\n",
        "# dfBMI20_Age50_smoker\n",
        "\n",
        "#np.mean(dfBMI20_Age62_non_smoker['Diabetes_012']==2)"
      ],
      "metadata": {
        "colab": {
          "base_uri": "https://localhost:8080/"
        },
        "id": "rS1lHnTcKOLS",
        "outputId": "1ebbf20c-9684-4e96-bb0b-7da1e9529443"
      },
      "execution_count": null,
      "outputs": [
        {
          "output_type": "stream",
          "name": "stdout",
          "text": [
            "4.137529699970275\n"
          ]
        }
      ]
    },
    {
      "cell_type": "code",
      "source": [
        "#Answers:\n",
        "#Part a:\n",
        "dfD = df[df['Diabetes_012']==2]\n",
        "dfnotD = df[df['Diabetes_012']==0]\n",
        "\n",
        "PB20_givenDtrue = np.mean(dfD['BMI']==20)\n",
        "PB20_givenDfalse = np.mean(dfnotD['BMI']==20)\n",
        "\n",
        "PA62_givenDtrue = np.mean(dfD['Age']==62)\n",
        "PA62_givenDfalse = np.mean(dfnotD['Age']==62)\n",
        "\n",
        "PnotS_givenDtrue = np.mean(dfD['Smoker']==0)\n",
        "PnotS_givenDfalse = np.mean(dfnotD['Smoker']==0)\n",
        "\n",
        "PDtrue = np.mean(df['Diabetes_012']==2)\n",
        "PDfalse = np.mean(df['Diabetes_012']==0)\n",
        "\n",
        "PallDtrue = PB20_givenDtrue * PA62_givenDtrue * PnotS_givenDtrue * PDtrue\n",
        "PallDfalse = PB20_givenDfalse * PA62_givenDfalse * PnotS_givenDfalse * PDfalse\n",
        "\n",
        "print(\"[Naive Bayes] Probability of Diabetes, given BMI=20 and not Smoker, and Ages=52: = %0.1f %%\" % (100*(PallDtrue) / (PallDtrue + PallDfalse)))\n",
        "\n",
        "#Part b:\n",
        "PB20_givenOtrue = np.mean(df[df['Age']>50]['BMI']==20)\n",
        "PB20_givenOfalse = np.mean(df[df['Age']<=50]['BMI']==20)\n",
        "\n",
        "PnotS_givenOtrue = np.mean(df[df['Age']>50]['Smoker']==0)\n",
        "PnotS_givenOfalse = np.mean(df[df['Age']<=50]['Smoker']==0)\n",
        "\n",
        "PD_givenOtrue = np.mean(df[df['Age']>50]['Diabetes_012']==2)\n",
        "PD_givenOfalse = np.mean(df[df['Age']<=50]['Diabetes_012']==2)\n",
        "\n",
        "POtrue = np.mean(df['Age']>50)\n",
        "POfalse = np.mean(df['Age']<=50)\n",
        "\n",
        "PallOtrue = (PB20_givenOtrue * PnotS_givenOtrue * PD_givenOtrue * POtrue)\n",
        "PallOfalse = (PB20_givenOfalse * PnotS_givenOfalse * PD_givenOfalse * POfalse)\n",
        "\n",
        "print(\"[Naive Bayes] Probability of over 50, given BMI=20 and not Smoker, and diabetes = %0.1f %%\" % (100*(PallOtrue) / (PallOtrue + PallOfalse)))\n",
        "\n",
        "#doing it with full joint distribution:\n",
        "#we've got 115 rows, not really enough to infer over, but anyway...\n",
        "print(\"Number of entries: %d\" % len(df[(df['Smoker']==0) & (df['BMI']==20) * (df['Diabetes_012']==2)]))\n",
        "print(\"[Full]        Probability of over 50, given BMI=20 and not Smoker, and diabetes = %0.1f %%\" % (100*np.mean(df[(df['Smoker']==0) & (df['BMI']==20) * (df['Diabetes_012']==2)]['Age']>50)));"
      ],
      "metadata": {
        "id": "uaJn3nQ-XPz7"
      },
      "execution_count": null,
      "outputs": []
    },
    {
      "cell_type": "code",
      "source": [],
      "metadata": {
        "id": "aL9zmwz7gbDs"
      },
      "execution_count": null,
      "outputs": []
    },
    {
      "cell_type": "markdown",
      "source": [
        "---"
      ],
      "metadata": {
        "id": "xrBUmyL0mNAE"
      }
    },
    {
      "cell_type": "markdown",
      "metadata": {
        "id": "fyQJsg1UwPYM"
      },
      "source": [
        "### Related topics\n",
        "\n",
        "- If you play with Naive Bayes you might find situations where no rows in the training set have that feature value. A simple approach to handling that is simply to 'add one' to all the frequencies. This is [Laplace Smoothing](https://en.wikipedia.org/wiki/Additive_smoothing) (and is the equivalent to adding a prior).\n",
        "- Naive Bayes can be considered as a (simple) Bayesian belief network:\n",
        "\n",
        "<img width=300 src=\"https://www.researchgate.net/publication/283161090/figure/fig1/AS:648613512364033@1531652920537/A-typical-Naive-Bayes-network-diagram.png\" />\n",
        "\n",
        "<small><small>A Naive Bayes Network, from <i>Ibrahim et al. (2015). doi: 10.1016/j.procs.2015.09.194.</i></small></small>\n",
        "\n",
        "A more complex network can be constructed, with some conditional dependencies added between features using edges. [Wikipedia article on Bayesian networks](https://en.wikipedia.org/wiki/Bayesian_network).\n",
        "\n",
        "### Summary\n",
        "\n",
        "With a handful of basic tools (the product rule, marginalisation, etc) we are able to perform really useful inference about important questions."
      ]
    },
    {
      "cell_type": "markdown",
      "metadata": {
        "id": "rFQsZfPywPYN"
      },
      "source": [
        "# Notes for other lecturers on data prep\n",
        "\n",
        "The original ages were stored using a [14 category age](https://www.icpsr.umich.edu/web/NAHDAP/studies/34085/datasets/0001/variables/AGEG5YR?archive=NAHDAP). So I converted these to years (using the centre of each category) and saved as a new file:\n",
        "\n",
        "```\n",
        "newdf = df[df['Age']!=99]\n",
        "newdf['Age'] = newdf['Age']*5+17\n",
        "newdf.loc[newdf['Age']==22,'Age']=21\n",
        "newdf.to_csv('diabetes2.csv')\n",
        "```"
      ]
    },
    {
      "cell_type": "code",
      "source": [],
      "metadata": {
        "id": "tNlwFcVTKOzZ"
      },
      "execution_count": null,
      "outputs": []
    }
  ],
  "metadata": {
    "kernelspec": {
      "display_name": "Python 3",
      "language": "python",
      "name": "python3"
    },
    "language_info": {
      "codemirror_mode": {
        "name": "ipython",
        "version": 3
      },
      "file_extension": ".py",
      "mimetype": "text/x-python",
      "name": "python",
      "nbconvert_exporter": "python",
      "pygments_lexer": "ipython3",
      "version": "3.8.3"
    },
    "colab": {
      "provenance": [],
      "collapsed_sections": [
        "8eUzwlQqwPYH",
        "25tkgwipwPYI",
        "fyQJsg1UwPYM"
      ],
      "include_colab_link": true
    }
  },
  "nbformat": 4,
  "nbformat_minor": 0
}